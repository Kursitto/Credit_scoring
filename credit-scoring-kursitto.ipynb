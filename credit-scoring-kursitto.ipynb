{
 "cells": [
  {
   "cell_type": "markdown",
   "metadata": {
    "papermill": {
     "duration": 0.061513,
     "end_time": "2021-11-30T06:36:24.426939",
     "exception": false,
     "start_time": "2021-11-30T06:36:24.365426",
     "status": "completed"
    },
    "tags": []
   },
   "source": [
    "## Проект 4. Компьютер говорит нет!"
   ]
  },
  {
   "cell_type": "markdown",
   "metadata": {
    "papermill": {
     "duration": 0.056332,
     "end_time": "2021-11-30T06:36:24.542451",
     "exception": false,
     "start_time": "2021-11-30T06:36:24.486119",
     "status": "completed"
    },
    "tags": []
   },
   "source": [
    "#### **Целью** данного проекта является построение модели МО для вторичных клиентов банка, которая бы предсказывала вероятность дефолта клиента.\n",
    "\n",
    "#### Для достижения данной цели были выделены следующие **задачи**:\n",
    "1. Предварительно исследовать данные, провести их объединение и анализ\n",
    "2. Посмотреть данные на наличие пустых значений и заполнить пустые места\n",
    "3. Определить категории признаков для дальнейшей работы и анализа\n",
    "4. Построить графики численных переменных и посмотреть как они распределены\n",
    "5. Сделать матрицу корреляции и провести анализ значимости непрерывных и категориальных признаков\n",
    "6. Подготовить данные для машинного обучения: преобразовать категориальные признаки в dummy-переменные и провести стандартизацию численных признаков\n",
    "7. Построить модель логистической регрессии и провести регуляризацию\n",
    "8. Посмотреть другие (более подходящие) модели..."
   ]
  },
  {
   "cell_type": "markdown",
   "metadata": {
    "papermill": {
     "duration": 0.053893,
     "end_time": "2021-11-30T06:36:24.650720",
     "exception": false,
     "start_time": "2021-11-30T06:36:24.596827",
     "status": "completed"
    },
    "tags": []
   },
   "source": [
    "### **Описания полей**\n",
    "\n",
    "* client_id - идентификатор клиента\n",
    "* education - уровень образования \n",
    "* sex - пол заемщика \n",
    "* age - возраст заемщика\n",
    "* car - флаг наличия автомобиля\n",
    "* car_type - флаг автомобиля иномарки\n",
    "* decline_app_cnt - количество отказанных прошлых заявок\n",
    "* good_work - флаг наличия “хорошей” работы\n",
    "* bki_request_cnt - количество запросов в БКИ\n",
    "* home_address - категоризатор домашнего адреса\n",
    "* work_address - категоризатор рабочего адреса\n",
    "* income - доход заемщика\n",
    "* foreign_passport - наличие загранпаспорта\n",
    "* sna - связь заемщика с клиентами банка\n",
    "* first_time - давность наличия информации о заемщике\n",
    "* score_bki - скоринговый балл по данным из БКИ\n",
    "* region_rating - рейтинг региона\n",
    "* app_date - дата подачи заявки\n",
    "* default - флаг дефолта по кредиту"
   ]
  },
  {
   "cell_type": "code",
   "execution_count": 1,
   "metadata": {
    "execution": {
     "iopub.execute_input": "2021-11-30T06:36:24.767034Z",
     "iopub.status.busy": "2021-11-30T06:36:24.765834Z",
     "iopub.status.idle": "2021-11-30T06:36:27.464895Z",
     "shell.execute_reply": "2021-11-30T06:36:27.465716Z",
     "shell.execute_reply.started": "2021-11-30T06:27:42.512433Z"
    },
    "papermill": {
     "duration": 2.759739,
     "end_time": "2021-11-30T06:36:27.466028",
     "exception": false,
     "start_time": "2021-11-30T06:36:24.706289",
     "status": "completed"
    },
    "tags": []
   },
   "outputs": [
    {
     "name": "stdout",
     "output_type": "stream",
     "text": [
      "/kaggle/input/sf-dst-scoring/sample_submission.csv\n",
      "/kaggle/input/sf-dst-scoring/train.csv\n",
      "/kaggle/input/sf-dst-scoring/test.csv\n"
     ]
    }
   ],
   "source": [
    "# необходимые библиотеки\n",
    "from pandas import Series\n",
    "import pandas as pd\n",
    "import numpy as np\n",
    "\n",
    "import pandas_profiling\n",
    "\n",
    "import matplotlib.pyplot as plt\n",
    "import seaborn as sns\n",
    "%matplotlib inline\n",
    "\n",
    "from datetime import date\n",
    "from datetime import datetime, timedelta\n",
    "\n",
    "from sklearn.preprocessing import PolynomialFeatures\n",
    "\n",
    "from sklearn.feature_selection import f_classif, mutual_info_classif\n",
    "from sklearn.preprocessing import LabelEncoder, OneHotEncoder, StandardScaler, PolynomialFeatures\n",
    "\n",
    "from sklearn.model_selection import GridSearchCV, RandomizedSearchCV\n",
    "from sklearn.model_selection import train_test_split\n",
    "from sklearn.linear_model import LogisticRegression\n",
    "from sklearn.ensemble import GradientBoostingClassifier, RandomForestClassifier\n",
    "from catboost import CatBoostClassifier\n",
    "\n",
    "from sklearn.metrics import accuracy_score, recall_score, f1_score, mean_absolute_error, mean_squared_error, precision_score\n",
    "from sklearn.metrics import confusion_matrix\n",
    "from sklearn.metrics import auc, roc_auc_score, roc_curve\n",
    "\n",
    "import warnings\n",
    "warnings.filterwarnings(\"ignore\")\n",
    "\n",
    "import os\n",
    "for dirname, _, filenames in os.walk('/kaggle/input'):\n",
    "    for filename in filenames:\n",
    "        print(os.path.join(dirname, filename))"
   ]
  },
  {
   "cell_type": "code",
   "execution_count": 2,
   "metadata": {
    "execution": {
     "iopub.execute_input": "2021-11-30T06:36:27.580826Z",
     "iopub.status.busy": "2021-11-30T06:36:27.580094Z",
     "iopub.status.idle": "2021-11-30T06:36:27.584328Z",
     "shell.execute_reply": "2021-11-30T06:36:27.583825Z",
     "shell.execute_reply.started": "2021-11-30T06:27:44.939299Z"
    },
    "papermill": {
     "duration": 0.062993,
     "end_time": "2021-11-30T06:36:27.584471",
     "exception": false,
     "start_time": "2021-11-30T06:36:27.521478",
     "status": "completed"
    },
    "tags": []
   },
   "outputs": [],
   "source": [
    "# Зафиксируем RANDOM_SEED, чтобы эксперименты были воспроизводимы\n",
    "RANDOM_SEED = 40"
   ]
  },
  {
   "cell_type": "code",
   "execution_count": 3,
   "metadata": {
    "execution": {
     "iopub.execute_input": "2021-11-30T06:36:27.698779Z",
     "iopub.status.busy": "2021-11-30T06:36:27.697668Z",
     "iopub.status.idle": "2021-11-30T06:36:30.392857Z",
     "shell.execute_reply": "2021-11-30T06:36:30.392146Z",
     "shell.execute_reply.started": "2021-11-30T06:27:44.945781Z"
    },
    "papermill": {
     "duration": 2.753709,
     "end_time": "2021-11-30T06:36:30.393002",
     "exception": false,
     "start_time": "2021-11-30T06:36:27.639293",
     "status": "completed"
    },
    "tags": []
   },
   "outputs": [],
   "source": [
    "# Зафиксируем версию пакетов, чтобы эксперименты были воспроизводимы:\n",
    "!pip freeze > requiremnts.txt"
   ]
  },
  {
   "cell_type": "markdown",
   "metadata": {
    "papermill": {
     "duration": 0.054483,
     "end_time": "2021-11-30T06:36:30.503726",
     "exception": false,
     "start_time": "2021-11-30T06:36:30.449243",
     "status": "completed"
    },
    "tags": []
   },
   "source": [
    "### 1. Первоначальный анализ исходных данных. Объединение датасетов"
   ]
  },
  {
   "cell_type": "code",
   "execution_count": 4,
   "metadata": {
    "execution": {
     "iopub.execute_input": "2021-11-30T06:36:30.621613Z",
     "iopub.status.busy": "2021-11-30T06:36:30.620897Z",
     "iopub.status.idle": "2021-11-30T06:36:30.973915Z",
     "shell.execute_reply": "2021-11-30T06:36:30.974476Z",
     "shell.execute_reply.started": "2021-11-30T06:27:47.500146Z"
    },
    "papermill": {
     "duration": 0.415646,
     "end_time": "2021-11-30T06:36:30.974683",
     "exception": false,
     "start_time": "2021-11-30T06:36:30.559037",
     "status": "completed"
    },
    "tags": []
   },
   "outputs": [],
   "source": [
    "DATA_DIR = '/kaggle/input/sf-dst-scoring/'\n",
    "train = pd.read_csv(DATA_DIR + 'train.csv')\n",
    "test = pd.read_csv(DATA_DIR + 'test.csv')\n",
    "sample_submission = pd.read_csv(DATA_DIR + 'sample_submission.csv')"
   ]
  },
  {
   "cell_type": "code",
   "execution_count": 5,
   "metadata": {
    "execution": {
     "iopub.execute_input": "2021-11-30T06:36:31.089180Z",
     "iopub.status.busy": "2021-11-30T06:36:31.088171Z",
     "iopub.status.idle": "2021-11-30T06:36:31.164026Z",
     "shell.execute_reply": "2021-11-30T06:36:31.165045Z",
     "shell.execute_reply.started": "2021-11-30T06:27:47.842267Z"
    },
    "papermill": {
     "duration": 0.135033,
     "end_time": "2021-11-30T06:36:31.165373",
     "exception": false,
     "start_time": "2021-11-30T06:36:31.030340",
     "status": "completed"
    },
    "tags": []
   },
   "outputs": [
    {
     "name": "stdout",
     "output_type": "stream",
     "text": [
      "<class 'pandas.core.frame.DataFrame'>\n",
      "RangeIndex: 73799 entries, 0 to 73798\n",
      "Data columns (total 19 columns):\n",
      " #   Column            Non-Null Count  Dtype  \n",
      "---  ------            --------------  -----  \n",
      " 0   client_id         73799 non-null  int64  \n",
      " 1   app_date          73799 non-null  object \n",
      " 2   education         73492 non-null  object \n",
      " 3   sex               73799 non-null  object \n",
      " 4   age               73799 non-null  int64  \n",
      " 5   car               73799 non-null  object \n",
      " 6   car_type          73799 non-null  object \n",
      " 7   decline_app_cnt   73799 non-null  int64  \n",
      " 8   good_work         73799 non-null  int64  \n",
      " 9   score_bki         73799 non-null  float64\n",
      " 10  bki_request_cnt   73799 non-null  int64  \n",
      " 11  region_rating     73799 non-null  int64  \n",
      " 12  home_address      73799 non-null  int64  \n",
      " 13  work_address      73799 non-null  int64  \n",
      " 14  income            73799 non-null  int64  \n",
      " 15  sna               73799 non-null  int64  \n",
      " 16  first_time        73799 non-null  int64  \n",
      " 17  foreign_passport  73799 non-null  object \n",
      " 18  default           73799 non-null  int64  \n",
      "dtypes: float64(1), int64(12), object(6)\n",
      "memory usage: 10.7+ MB\n"
     ]
    }
   ],
   "source": [
    "train.info()"
   ]
  },
  {
   "cell_type": "code",
   "execution_count": 6,
   "metadata": {
    "execution": {
     "iopub.execute_input": "2021-11-30T06:36:31.281213Z",
     "iopub.status.busy": "2021-11-30T06:36:31.280205Z",
     "iopub.status.idle": "2021-11-30T06:36:31.317956Z",
     "shell.execute_reply": "2021-11-30T06:36:31.318710Z",
     "shell.execute_reply.started": "2021-11-30T06:27:47.918423Z"
    },
    "papermill": {
     "duration": 0.09679,
     "end_time": "2021-11-30T06:36:31.318939",
     "exception": false,
     "start_time": "2021-11-30T06:36:31.222149",
     "status": "completed"
    },
    "tags": []
   },
   "outputs": [
    {
     "name": "stdout",
     "output_type": "stream",
     "text": [
      "<class 'pandas.core.frame.DataFrame'>\n",
      "RangeIndex: 36349 entries, 0 to 36348\n",
      "Data columns (total 18 columns):\n",
      " #   Column            Non-Null Count  Dtype  \n",
      "---  ------            --------------  -----  \n",
      " 0   client_id         36349 non-null  int64  \n",
      " 1   app_date          36349 non-null  object \n",
      " 2   education         36178 non-null  object \n",
      " 3   sex               36349 non-null  object \n",
      " 4   age               36349 non-null  int64  \n",
      " 5   car               36349 non-null  object \n",
      " 6   car_type          36349 non-null  object \n",
      " 7   decline_app_cnt   36349 non-null  int64  \n",
      " 8   good_work         36349 non-null  int64  \n",
      " 9   score_bki         36349 non-null  float64\n",
      " 10  bki_request_cnt   36349 non-null  int64  \n",
      " 11  region_rating     36349 non-null  int64  \n",
      " 12  home_address      36349 non-null  int64  \n",
      " 13  work_address      36349 non-null  int64  \n",
      " 14  income            36349 non-null  int64  \n",
      " 15  sna               36349 non-null  int64  \n",
      " 16  first_time        36349 non-null  int64  \n",
      " 17  foreign_passport  36349 non-null  object \n",
      "dtypes: float64(1), int64(11), object(6)\n",
      "memory usage: 5.0+ MB\n"
     ]
    }
   ],
   "source": [
    "test.info()"
   ]
  },
  {
   "cell_type": "code",
   "execution_count": 7,
   "metadata": {
    "execution": {
     "iopub.execute_input": "2021-11-30T06:36:31.435021Z",
     "iopub.status.busy": "2021-11-30T06:36:31.434023Z",
     "iopub.status.idle": "2021-11-30T06:36:31.447988Z",
     "shell.execute_reply": "2021-11-30T06:36:31.448560Z",
     "shell.execute_reply.started": "2021-11-30T06:27:47.957859Z"
    },
    "papermill": {
     "duration": 0.073376,
     "end_time": "2021-11-30T06:36:31.448748",
     "exception": false,
     "start_time": "2021-11-30T06:36:31.375372",
     "status": "completed"
    },
    "tags": []
   },
   "outputs": [
    {
     "name": "stdout",
     "output_type": "stream",
     "text": [
      "<class 'pandas.core.frame.DataFrame'>\n",
      "RangeIndex: 24354 entries, 0 to 24353\n",
      "Data columns (total 2 columns):\n",
      " #   Column     Non-Null Count  Dtype  \n",
      "---  ------     --------------  -----  \n",
      " 0   client_id  24354 non-null  int64  \n",
      " 1   default    24354 non-null  float64\n",
      "dtypes: float64(1), int64(1)\n",
      "memory usage: 380.7 KB\n"
     ]
    }
   ],
   "source": [
    "sample_submission.info()"
   ]
  },
  {
   "cell_type": "code",
   "execution_count": 8,
   "metadata": {
    "execution": {
     "iopub.execute_input": "2021-11-30T06:36:31.570351Z",
     "iopub.status.busy": "2021-11-30T06:36:31.569214Z",
     "iopub.status.idle": "2021-11-30T06:36:31.617635Z",
     "shell.execute_reply": "2021-11-30T06:36:31.618127Z",
     "shell.execute_reply.started": "2021-11-30T06:27:47.973332Z"
    },
    "papermill": {
     "duration": 0.111744,
     "end_time": "2021-11-30T06:36:31.618319",
     "exception": false,
     "start_time": "2021-11-30T06:36:31.506575",
     "status": "completed"
    },
    "tags": []
   },
   "outputs": [],
   "source": [
    "# Для корректной обработки данных объединим train и test в один датасет\n",
    "train['sample'] = 1 # помечаем train\n",
    "test['sample'] = 0 # помечаем test\n",
    "test['default'] = 0 # т.к. значения дефолта отсутствуют для тестовой выборки, то пока\n",
    "# заполним нулями\n",
    "\n",
    "data = test.append(train, sort=False).reset_index(drop=True)"
   ]
  },
  {
   "cell_type": "code",
   "execution_count": 9,
   "metadata": {
    "execution": {
     "iopub.execute_input": "2021-11-30T06:36:31.770391Z",
     "iopub.status.busy": "2021-11-30T06:36:31.769342Z",
     "iopub.status.idle": "2021-11-30T06:36:31.819277Z",
     "shell.execute_reply": "2021-11-30T06:36:31.818776Z",
     "shell.execute_reply.started": "2021-11-30T06:27:48.024949Z"
    },
    "papermill": {
     "duration": 0.144069,
     "end_time": "2021-11-30T06:36:31.819427",
     "exception": false,
     "start_time": "2021-11-30T06:36:31.675358",
     "status": "completed"
    },
    "tags": []
   },
   "outputs": [
    {
     "name": "stdout",
     "output_type": "stream",
     "text": [
      "<class 'pandas.core.frame.DataFrame'>\n",
      "RangeIndex: 110148 entries, 0 to 110147\n",
      "Data columns (total 20 columns):\n",
      " #   Column            Non-Null Count   Dtype  \n",
      "---  ------            --------------   -----  \n",
      " 0   client_id         110148 non-null  int64  \n",
      " 1   app_date          110148 non-null  object \n",
      " 2   education         109670 non-null  object \n",
      " 3   sex               110148 non-null  object \n",
      " 4   age               110148 non-null  int64  \n",
      " 5   car               110148 non-null  object \n",
      " 6   car_type          110148 non-null  object \n",
      " 7   decline_app_cnt   110148 non-null  int64  \n",
      " 8   good_work         110148 non-null  int64  \n",
      " 9   score_bki         110148 non-null  float64\n",
      " 10  bki_request_cnt   110148 non-null  int64  \n",
      " 11  region_rating     110148 non-null  int64  \n",
      " 12  home_address      110148 non-null  int64  \n",
      " 13  work_address      110148 non-null  int64  \n",
      " 14  income            110148 non-null  int64  \n",
      " 15  sna               110148 non-null  int64  \n",
      " 16  first_time        110148 non-null  int64  \n",
      " 17  foreign_passport  110148 non-null  object \n",
      " 18  sample            110148 non-null  int64  \n",
      " 19  default           110148 non-null  int64  \n",
      "dtypes: float64(1), int64(13), object(6)\n",
      "memory usage: 16.8+ MB\n"
     ]
    }
   ],
   "source": [
    "data.info()"
   ]
  },
  {
   "cell_type": "code",
   "execution_count": 10,
   "metadata": {
    "execution": {
     "iopub.execute_input": "2021-11-30T06:36:31.937514Z",
     "iopub.status.busy": "2021-11-30T06:36:31.936349Z",
     "iopub.status.idle": "2021-11-30T06:36:31.995038Z",
     "shell.execute_reply": "2021-11-30T06:36:31.994357Z",
     "shell.execute_reply.started": "2021-11-30T06:27:48.112711Z"
    },
    "papermill": {
     "duration": 0.118545,
     "end_time": "2021-11-30T06:36:31.995180",
     "exception": false,
     "start_time": "2021-11-30T06:36:31.876635",
     "status": "completed"
    },
    "tags": []
   },
   "outputs": [
    {
     "data": {
      "text/html": [
       "<div>\n",
       "<style scoped>\n",
       "    .dataframe tbody tr th:only-of-type {\n",
       "        vertical-align: middle;\n",
       "    }\n",
       "\n",
       "    .dataframe tbody tr th {\n",
       "        vertical-align: top;\n",
       "    }\n",
       "\n",
       "    .dataframe thead th {\n",
       "        text-align: right;\n",
       "    }\n",
       "</style>\n",
       "<table border=\"1\" class=\"dataframe\">\n",
       "  <thead>\n",
       "    <tr style=\"text-align: right;\">\n",
       "      <th></th>\n",
       "      <th>client_id</th>\n",
       "      <th>app_date</th>\n",
       "      <th>education</th>\n",
       "      <th>sex</th>\n",
       "      <th>age</th>\n",
       "      <th>car</th>\n",
       "      <th>car_type</th>\n",
       "      <th>decline_app_cnt</th>\n",
       "      <th>good_work</th>\n",
       "      <th>score_bki</th>\n",
       "      <th>bki_request_cnt</th>\n",
       "      <th>region_rating</th>\n",
       "      <th>home_address</th>\n",
       "      <th>work_address</th>\n",
       "      <th>income</th>\n",
       "      <th>sna</th>\n",
       "      <th>first_time</th>\n",
       "      <th>foreign_passport</th>\n",
       "      <th>sample</th>\n",
       "      <th>default</th>\n",
       "    </tr>\n",
       "  </thead>\n",
       "  <tbody>\n",
       "    <tr>\n",
       "      <th>21070</th>\n",
       "      <td>104245</td>\n",
       "      <td>22APR2014</td>\n",
       "      <td>GRD</td>\n",
       "      <td>F</td>\n",
       "      <td>30</td>\n",
       "      <td>Y</td>\n",
       "      <td>Y</td>\n",
       "      <td>0</td>\n",
       "      <td>0</td>\n",
       "      <td>-1.870802</td>\n",
       "      <td>0</td>\n",
       "      <td>60</td>\n",
       "      <td>2</td>\n",
       "      <td>3</td>\n",
       "      <td>75000</td>\n",
       "      <td>1</td>\n",
       "      <td>3</td>\n",
       "      <td>Y</td>\n",
       "      <td>0</td>\n",
       "      <td>0</td>\n",
       "    </tr>\n",
       "    <tr>\n",
       "      <th>54501</th>\n",
       "      <td>16805</td>\n",
       "      <td>24JAN2014</td>\n",
       "      <td>GRD</td>\n",
       "      <td>M</td>\n",
       "      <td>25</td>\n",
       "      <td>Y</td>\n",
       "      <td>Y</td>\n",
       "      <td>0</td>\n",
       "      <td>1</td>\n",
       "      <td>-1.236506</td>\n",
       "      <td>1</td>\n",
       "      <td>50</td>\n",
       "      <td>3</td>\n",
       "      <td>3</td>\n",
       "      <td>30000</td>\n",
       "      <td>3</td>\n",
       "      <td>2</td>\n",
       "      <td>N</td>\n",
       "      <td>1</td>\n",
       "      <td>0</td>\n",
       "    </tr>\n",
       "    <tr>\n",
       "      <th>76265</th>\n",
       "      <td>58408</td>\n",
       "      <td>06MAR2014</td>\n",
       "      <td>GRD</td>\n",
       "      <td>F</td>\n",
       "      <td>26</td>\n",
       "      <td>N</td>\n",
       "      <td>N</td>\n",
       "      <td>2</td>\n",
       "      <td>0</td>\n",
       "      <td>-1.241758</td>\n",
       "      <td>3</td>\n",
       "      <td>50</td>\n",
       "      <td>1</td>\n",
       "      <td>2</td>\n",
       "      <td>35000</td>\n",
       "      <td>1</td>\n",
       "      <td>3</td>\n",
       "      <td>N</td>\n",
       "      <td>1</td>\n",
       "      <td>0</td>\n",
       "    </tr>\n",
       "    <tr>\n",
       "      <th>60302</th>\n",
       "      <td>12653</td>\n",
       "      <td>20JAN2014</td>\n",
       "      <td>SCH</td>\n",
       "      <td>F</td>\n",
       "      <td>58</td>\n",
       "      <td>N</td>\n",
       "      <td>N</td>\n",
       "      <td>0</td>\n",
       "      <td>0</td>\n",
       "      <td>-2.708880</td>\n",
       "      <td>3</td>\n",
       "      <td>60</td>\n",
       "      <td>1</td>\n",
       "      <td>1</td>\n",
       "      <td>999999</td>\n",
       "      <td>1</td>\n",
       "      <td>4</td>\n",
       "      <td>Y</td>\n",
       "      <td>1</td>\n",
       "      <td>0</td>\n",
       "    </tr>\n",
       "    <tr>\n",
       "      <th>94411</th>\n",
       "      <td>90988</td>\n",
       "      <td>07APR2014</td>\n",
       "      <td>GRD</td>\n",
       "      <td>F</td>\n",
       "      <td>42</td>\n",
       "      <td>N</td>\n",
       "      <td>N</td>\n",
       "      <td>0</td>\n",
       "      <td>1</td>\n",
       "      <td>-2.309948</td>\n",
       "      <td>5</td>\n",
       "      <td>80</td>\n",
       "      <td>2</td>\n",
       "      <td>3</td>\n",
       "      <td>60000</td>\n",
       "      <td>1</td>\n",
       "      <td>4</td>\n",
       "      <td>N</td>\n",
       "      <td>1</td>\n",
       "      <td>0</td>\n",
       "    </tr>\n",
       "  </tbody>\n",
       "</table>\n",
       "</div>"
      ],
      "text/plain": [
       "       client_id   app_date education sex  age car car_type  decline_app_cnt  \\\n",
       "21070     104245  22APR2014       GRD   F   30   Y        Y                0   \n",
       "54501      16805  24JAN2014       GRD   M   25   Y        Y                0   \n",
       "76265      58408  06MAR2014       GRD   F   26   N        N                2   \n",
       "60302      12653  20JAN2014       SCH   F   58   N        N                0   \n",
       "94411      90988  07APR2014       GRD   F   42   N        N                0   \n",
       "\n",
       "       good_work  score_bki  bki_request_cnt  region_rating  home_address  \\\n",
       "21070          0  -1.870802                0             60             2   \n",
       "54501          1  -1.236506                1             50             3   \n",
       "76265          0  -1.241758                3             50             1   \n",
       "60302          0  -2.708880                3             60             1   \n",
       "94411          1  -2.309948                5             80             2   \n",
       "\n",
       "       work_address  income  sna  first_time foreign_passport  sample  default  \n",
       "21070             3   75000    1           3                Y       0        0  \n",
       "54501             3   30000    3           2                N       1        0  \n",
       "76265             2   35000    1           3                N       1        0  \n",
       "60302             1  999999    1           4                Y       1        0  \n",
       "94411             3   60000    1           4                N       1        0  "
      ]
     },
     "execution_count": 10,
     "metadata": {},
     "output_type": "execute_result"
    }
   ],
   "source": [
    "data.sample(5)"
   ]
  },
  {
   "cell_type": "markdown",
   "metadata": {
    "papermill": {
     "duration": 0.056742,
     "end_time": "2021-11-30T06:36:32.109124",
     "exception": false,
     "start_time": "2021-11-30T06:36:32.052382",
     "status": "completed"
    },
    "tags": []
   },
   "source": [
    "### 2. Предобработка данных\n",
    "#### 2.1 Обработка NaN"
   ]
  },
  {
   "cell_type": "code",
   "execution_count": 11,
   "metadata": {
    "execution": {
     "iopub.execute_input": "2021-11-30T06:36:32.228733Z",
     "iopub.status.busy": "2021-11-30T06:36:32.227841Z",
     "iopub.status.idle": "2021-11-30T06:36:32.302476Z",
     "shell.execute_reply": "2021-11-30T06:36:32.301753Z",
     "shell.execute_reply.started": "2021-11-30T06:27:48.170459Z"
    },
    "papermill": {
     "duration": 0.136492,
     "end_time": "2021-11-30T06:36:32.302754",
     "exception": false,
     "start_time": "2021-11-30T06:36:32.166262",
     "status": "completed"
    },
    "tags": []
   },
   "outputs": [
    {
     "data": {
      "text/plain": [
       "client_id             0\n",
       "app_date              0\n",
       "education           478\n",
       "sex                   0\n",
       "age                   0\n",
       "car                   0\n",
       "car_type              0\n",
       "decline_app_cnt       0\n",
       "good_work             0\n",
       "score_bki             0\n",
       "bki_request_cnt       0\n",
       "region_rating         0\n",
       "home_address          0\n",
       "work_address          0\n",
       "income                0\n",
       "sna                   0\n",
       "first_time            0\n",
       "foreign_passport      0\n",
       "sample                0\n",
       "default               0\n",
       "dtype: int64"
      ]
     },
     "execution_count": 11,
     "metadata": {},
     "output_type": "execute_result"
    }
   ],
   "source": [
    "data.isna().sum(axis=0)"
   ]
  },
  {
   "cell_type": "markdown",
   "metadata": {
    "papermill": {
     "duration": 0.056774,
     "end_time": "2021-11-30T06:36:32.420578",
     "exception": false,
     "start_time": "2021-11-30T06:36:32.363804",
     "status": "completed"
    },
    "tags": []
   },
   "source": [
    "Пустые значения есть только в колонке education. Заполним их модой\n",
    "\n"
   ]
  },
  {
   "cell_type": "code",
   "execution_count": 12,
   "metadata": {
    "execution": {
     "iopub.execute_input": "2021-11-30T06:36:32.568348Z",
     "iopub.status.busy": "2021-11-30T06:36:32.557332Z",
     "iopub.status.idle": "2021-11-30T06:36:32.575498Z",
     "shell.execute_reply": "2021-11-30T06:36:32.574888Z",
     "shell.execute_reply.started": "2021-11-30T06:27:48.248641Z"
    },
    "papermill": {
     "duration": 0.096621,
     "end_time": "2021-11-30T06:36:32.575675",
     "exception": false,
     "start_time": "2021-11-30T06:36:32.479054",
     "status": "completed"
    },
    "tags": []
   },
   "outputs": [
    {
     "data": {
      "text/plain": [
       "SCH    57998\n",
       "GRD    34768\n",
       "UGR    14748\n",
       "PGR     1865\n",
       "NaN      478\n",
       "ACD      291\n",
       "Name: education, dtype: int64"
      ]
     },
     "execution_count": 12,
     "metadata": {},
     "output_type": "execute_result"
    }
   ],
   "source": [
    "data['education'].value_counts(dropna=False)"
   ]
  },
  {
   "cell_type": "code",
   "execution_count": 13,
   "metadata": {
    "execution": {
     "iopub.execute_input": "2021-11-30T06:36:32.735053Z",
     "iopub.status.busy": "2021-11-30T06:36:32.733495Z",
     "iopub.status.idle": "2021-11-30T06:36:32.739712Z",
     "shell.execute_reply": "2021-11-30T06:36:32.740207Z",
     "shell.execute_reply.started": "2021-11-30T06:27:48.286232Z"
    },
    "papermill": {
     "duration": 0.106599,
     "end_time": "2021-11-30T06:36:32.740399",
     "exception": false,
     "start_time": "2021-11-30T06:36:32.633800",
     "status": "completed"
    },
    "tags": []
   },
   "outputs": [],
   "source": [
    "data['education'] = data['education'].fillna(data['education'].value_counts().index[0])"
   ]
  },
  {
   "cell_type": "code",
   "execution_count": 14,
   "metadata": {
    "execution": {
     "iopub.execute_input": "2021-11-30T06:36:32.878750Z",
     "iopub.status.busy": "2021-11-30T06:36:32.877793Z",
     "iopub.status.idle": "2021-11-30T06:36:32.896242Z",
     "shell.execute_reply": "2021-11-30T06:36:32.895659Z",
     "shell.execute_reply.started": "2021-11-30T06:27:48.333057Z"
    },
    "papermill": {
     "duration": 0.096549,
     "end_time": "2021-11-30T06:36:32.896382",
     "exception": false,
     "start_time": "2021-11-30T06:36:32.799833",
     "status": "completed"
    },
    "tags": []
   },
   "outputs": [
    {
     "data": {
      "text/plain": [
       "SCH    58476\n",
       "GRD    34768\n",
       "UGR    14748\n",
       "PGR     1865\n",
       "ACD      291\n",
       "Name: education, dtype: int64"
      ]
     },
     "execution_count": 14,
     "metadata": {},
     "output_type": "execute_result"
    }
   ],
   "source": [
    "data['education'].value_counts(dropna=False)"
   ]
  },
  {
   "cell_type": "markdown",
   "metadata": {
    "execution": {
     "iopub.execute_input": "2021-06-17T19:49:36.695909Z",
     "iopub.status.busy": "2021-06-17T19:49:36.695459Z",
     "iopub.status.idle": "2021-06-17T19:49:36.699681Z",
     "shell.execute_reply": "2021-06-17T19:49:36.69897Z",
     "shell.execute_reply.started": "2021-06-17T19:49:36.695875Z"
    },
    "papermill": {
     "duration": 0.057385,
     "end_time": "2021-11-30T06:36:33.012969",
     "exception": false,
     "start_time": "2021-11-30T06:36:32.955584",
     "status": "completed"
    },
    "tags": []
   },
   "source": [
    "#### 2.2 Обработка признаков"
   ]
  },
  {
   "cell_type": "code",
   "execution_count": 15,
   "metadata": {
    "execution": {
     "iopub.execute_input": "2021-11-30T06:36:33.132476Z",
     "iopub.status.busy": "2021-11-30T06:36:33.131824Z",
     "iopub.status.idle": "2021-11-30T06:36:33.136760Z",
     "shell.execute_reply": "2021-11-30T06:36:33.137269Z",
     "shell.execute_reply.started": "2021-11-30T06:27:48.372639Z"
    },
    "papermill": {
     "duration": 0.066096,
     "end_time": "2021-11-30T06:36:33.137481",
     "exception": false,
     "start_time": "2021-11-30T06:36:33.071385",
     "status": "completed"
    },
    "tags": []
   },
   "outputs": [],
   "source": [
    "# Для более удобной работы создадим списки по категориям датасета (категориальные,\n",
    "# бинарные, числовые)\n",
    "\n",
    "bin_cols = ['sex', 'car', 'car_type', 'foreign_passport', 'good_work']\n",
    "cat_cols = ['education', 'region_rating', 'home_address', 'work_address', 'app_date', 'sna', 'first_time']\n",
    "num_cols = ['age', 'decline_app_cnt', 'income', 'bki_request_cnt', 'score_bki']"
   ]
  },
  {
   "cell_type": "code",
   "execution_count": 16,
   "metadata": {
    "execution": {
     "iopub.execute_input": "2021-11-30T06:36:33.257326Z",
     "iopub.status.busy": "2021-11-30T06:36:33.256704Z",
     "iopub.status.idle": "2021-11-30T06:36:33.264125Z",
     "shell.execute_reply": "2021-11-30T06:36:33.264747Z",
     "shell.execute_reply.started": "2021-11-30T06:27:48.380422Z"
    },
    "papermill": {
     "duration": 0.068269,
     "end_time": "2021-11-30T06:36:33.264921",
     "exception": false,
     "start_time": "2021-11-30T06:36:33.196652",
     "status": "completed"
    },
    "tags": []
   },
   "outputs": [
    {
     "data": {
      "text/plain": [
       "0         22MAR2014\n",
       "1         24JAN2014\n",
       "2         23MAR2014\n",
       "3         03FEB2014\n",
       "4         04FEB2014\n",
       "            ...    \n",
       "110143    04MAR2014\n",
       "110144    24MAR2014\n",
       "110145    22APR2014\n",
       "110146    04JAN2014\n",
       "110147    23JAN2014\n",
       "Name: app_date, Length: 110148, dtype: object"
      ]
     },
     "execution_count": 16,
     "metadata": {},
     "output_type": "execute_result"
    }
   ],
   "source": [
    "data.app_date"
   ]
  },
  {
   "cell_type": "code",
   "execution_count": 17,
   "metadata": {
    "execution": {
     "iopub.execute_input": "2021-11-30T06:36:33.396968Z",
     "iopub.status.busy": "2021-11-30T06:36:33.395987Z",
     "iopub.status.idle": "2021-11-30T06:36:34.234193Z",
     "shell.execute_reply": "2021-11-30T06:36:34.233623Z",
     "shell.execute_reply.started": "2021-11-30T06:27:48.395255Z"
    },
    "papermill": {
     "duration": 0.909985,
     "end_time": "2021-11-30T06:36:34.234360",
     "exception": false,
     "start_time": "2021-11-30T06:36:33.324375",
     "status": "completed"
    },
    "tags": []
   },
   "outputs": [],
   "source": [
    "# Преобразуем дату в день\n",
    "data['app_date'] = pd.to_datetime(data['app_date'])\n",
    "data['app_date'] = data['app_date'].apply(lambda x: x.month)\n",
    "\n",
    "# Переведем дату в катеогрию \"численные\", т.к. в дальнейшем это влияет на метрики модели\n",
    "cat_cols.remove('app_date')\n",
    "num_cols.append('app_date')"
   ]
  },
  {
   "cell_type": "markdown",
   "metadata": {
    "papermill": {
     "duration": 0.058215,
     "end_time": "2021-11-30T06:36:34.351670",
     "exception": false,
     "start_time": "2021-11-30T06:36:34.293455",
     "status": "completed"
    },
    "tags": []
   },
   "source": [
    "#### 2.3 Выбросы"
   ]
  },
  {
   "cell_type": "code",
   "execution_count": 18,
   "metadata": {
    "execution": {
     "iopub.execute_input": "2021-11-30T06:36:34.473981Z",
     "iopub.status.busy": "2021-11-30T06:36:34.472942Z",
     "iopub.status.idle": "2021-11-30T06:36:34.517599Z",
     "shell.execute_reply": "2021-11-30T06:36:34.518463Z",
     "shell.execute_reply.started": "2021-11-30T06:27:49.237746Z"
    },
    "papermill": {
     "duration": 0.109051,
     "end_time": "2021-11-30T06:36:34.518681",
     "exception": false,
     "start_time": "2021-11-30T06:36:34.409630",
     "status": "completed"
    },
    "tags": []
   },
   "outputs": [
    {
     "data": {
      "text/plain": [
       "(0.999, 100900.0]        105488\n",
       "(100900.0, 200800.0]       3607\n",
       "(200800.0, 300700.0]        656\n",
       "(300700.0, 400600.0]        171\n",
       "(400600.0, 500500.0]        106\n",
       "(500500.0, 600400.0]         43\n",
       "(900100.0, 1000000.0]        25\n",
       "(600400.0, 700300.0]         22\n",
       "(700300.0, 800200.0]         17\n",
       "(800200.0, 900100.0]         13\n",
       "Name: income, dtype: int64"
      ]
     },
     "execution_count": 18,
     "metadata": {},
     "output_type": "execute_result"
    }
   ],
   "source": [
    "data['income'].value_counts(bins=10)"
   ]
  },
  {
   "cell_type": "code",
   "execution_count": 19,
   "metadata": {
    "execution": {
     "iopub.execute_input": "2021-11-30T06:36:34.640244Z",
     "iopub.status.busy": "2021-11-30T06:36:34.639530Z",
     "iopub.status.idle": "2021-11-30T06:36:34.734853Z",
     "shell.execute_reply": "2021-11-30T06:36:34.735334Z",
     "shell.execute_reply.started": "2021-11-30T06:27:49.283103Z"
    },
    "papermill": {
     "duration": 0.156881,
     "end_time": "2021-11-30T06:36:34.735513",
     "exception": false,
     "start_time": "2021-11-30T06:36:34.578632",
     "status": "completed"
    },
    "tags": []
   },
   "outputs": [
    {
     "name": "stdout",
     "output_type": "stream",
     "text": [
      "Column:  age\n",
      "Максимальное значение в данных: 72\n",
      "Минимальное значение в данных: 21\n",
      "25%: 30.0, 75%: 48.0, IQR: 18.0,  Borderline: [3.0, 75.0].\n",
      "\n",
      "Column:  decline_app_cnt\n",
      "Максимальное значение в данных: 33\n",
      "Минимальное значение в данных: 0\n",
      "25%: 0.0, 75%: 0.0, IQR: 0.0,  Borderline: [0.0, 0.0].\n",
      "\n",
      "Column:  income\n",
      "Максимальное значение в данных: 1000000\n",
      "Минимальное значение в данных: 1000\n",
      "25%: 20000.0, 75%: 48000.0, IQR: 28000.0,  Borderline: [-22000.0, 90000.0].\n",
      "\n",
      "Column:  bki_request_cnt\n",
      "Максимальное значение в данных: 53\n",
      "Минимальное значение в данных: 0\n",
      "25%: 0.0, 75%: 3.0, IQR: 3.0,  Borderline: [-4.5, 7.5].\n",
      "\n",
      "Column:  score_bki\n",
      "Максимальное значение в данных: 0.19977285\n",
      "Минимальное значение в данных: -3.62458632\n",
      "25%: -2.2604336700000003, 75%: -1.5678881525, IQR: 0.6925455175000004,  Borderline: [-3.299251946250001, -0.5290698762499992].\n",
      "\n",
      "Column:  app_date\n",
      "Максимальное значение в данных: 4\n",
      "Минимальное значение в данных: 1\n",
      "25%: 2.0, 75%: 3.0, IQR: 1.0,  Borderline: [0.5, 4.5].\n",
      "\n"
     ]
    }
   ],
   "source": [
    "for col in num_cols:\n",
    "    median = data[col].median()\n",
    "    IQR = data[col].quantile(0.75) - data[col].quantile(0.25)\n",
    "    perc25 = data[col].quantile(0.25)\n",
    "    perc75 = data[col].quantile(0.75)\n",
    "    \n",
    "    print(\"Column: \", col)\n",
    "    print(\"Максимальное значение в данных:\", data[col].max())\n",
    "    print(\"Минимальное значение в данных:\", data[col].min())\n",
    "    print('25%: {},'.format(perc25), '75%: {},'.format(perc75),\n",
    "          \"IQR: {}, \".format(IQR), \"Borderline: [{f}, {l}].\".format(f=perc25 - 1.5*IQR, l=perc75 + 1.5*IQR))\n",
    "    print()"
   ]
  },
  {
   "cell_type": "markdown",
   "metadata": {
    "papermill": {
     "duration": 0.059589,
     "end_time": "2021-11-30T06:36:34.855679",
     "exception": false,
     "start_time": "2021-11-30T06:36:34.796090",
     "status": "completed"
    },
    "tags": []
   },
   "source": [
    "Просмотрев на распределение численных переменных можно сказать, что \"выбросы\" наблюдаются в колонках decline_app_cnt(количество отказанных прошлых заявок), income(доход заемщика),\n",
    "bki_request_cnt(количество обращений в БКИ) и score_bki:\n",
    "\n",
    "1) количество отказанных прошлых заявок в большинстве своем (более 85% равнялось 0) и удалять всех людей у которых были отказанные заявки абсолютно неправильно. Сделаю этот признак категориальным.\n",
    "\n",
    "2) признак income буду логарифмировать\n",
    "\n",
    "3) аналогичная ситуация и с количеством обращений"
   ]
  },
  {
   "cell_type": "raw",
   "metadata": {
    "papermill": {
     "duration": 0.058941,
     "end_time": "2021-11-30T06:36:34.975365",
     "exception": false,
     "start_time": "2021-11-30T06:36:34.916424",
     "status": "completed"
    },
    "tags": []
   },
   "source": []
  },
  {
   "cell_type": "code",
   "execution_count": 20,
   "metadata": {
    "execution": {
     "iopub.execute_input": "2021-11-30T06:36:35.098763Z",
     "iopub.status.busy": "2021-11-30T06:36:35.098071Z",
     "iopub.status.idle": "2021-11-30T06:36:35.174096Z",
     "shell.execute_reply": "2021-11-30T06:36:35.173486Z",
     "shell.execute_reply.started": "2021-11-30T06:27:49.371150Z"
    },
    "papermill": {
     "duration": 0.138176,
     "end_time": "2021-11-30T06:36:35.174246",
     "exception": false,
     "start_time": "2021-11-30T06:36:35.036070",
     "status": "completed"
    },
    "tags": []
   },
   "outputs": [],
   "source": [
    "data.decline_app_cnt = data.decline_app_cnt.apply(lambda x: x if x < 3 else 3)\n",
    "data.decline_app_cnt.value_counts()\n",
    "num_cols.remove('decline_app_cnt')\n",
    "cat_cols.append('decline_app_cnt')\n"
   ]
  },
  {
   "cell_type": "code",
   "execution_count": 21,
   "metadata": {
    "execution": {
     "iopub.execute_input": "2021-11-30T06:36:35.302218Z",
     "iopub.status.busy": "2021-11-30T06:36:35.301445Z",
     "iopub.status.idle": "2021-11-30T06:36:35.510862Z",
     "shell.execute_reply": "2021-11-30T06:36:35.510266Z",
     "shell.execute_reply.started": "2021-11-30T06:27:49.450841Z"
    },
    "papermill": {
     "duration": 0.276862,
     "end_time": "2021-11-30T06:36:35.511019",
     "exception": false,
     "start_time": "2021-11-30T06:36:35.234157",
     "status": "completed"
    },
    "tags": []
   },
   "outputs": [
    {
     "data": {
      "text/plain": [
       "<AxesSubplot:xlabel='default', ylabel='income'>"
      ]
     },
     "execution_count": 21,
     "metadata": {},
     "output_type": "execute_result"
    },
    {
     "data": {
      "image/png": "[encoded data removed]",
      "text/plain": [
       "<Figure size 432x288 with 1 Axes>"
      ]
     },
     "metadata": {
      "needs_background": "light"
     },
     "output_type": "display_data"
    }
   ],
   "source": [
    "data['income'] = np.log(data['income'] + 1)\n",
    "sns.boxplot(x='default',y = 'income',data=data)\n",
    "    "
   ]
  },
  {
   "cell_type": "markdown",
   "metadata": {
    "papermill": {
     "duration": 0.059205,
     "end_time": "2021-11-30T06:36:35.631273",
     "exception": false,
     "start_time": "2021-11-30T06:36:35.572068",
     "status": "completed"
    },
    "tags": []
   },
   "source": [
    "### 3. Визуализация"
   ]
  },
  {
   "cell_type": "code",
   "execution_count": 22,
   "metadata": {
    "execution": {
     "iopub.execute_input": "2021-11-30T06:36:35.755341Z",
     "iopub.status.busy": "2021-11-30T06:36:35.754380Z",
     "iopub.status.idle": "2021-11-30T06:36:35.921928Z",
     "shell.execute_reply": "2021-11-30T06:36:35.922556Z",
     "shell.execute_reply.started": "2021-11-30T06:27:49.653543Z"
    },
    "papermill": {
     "duration": 0.231966,
     "end_time": "2021-11-30T06:36:35.922735",
     "exception": false,
     "start_time": "2021-11-30T06:36:35.690769",
     "status": "completed"
    },
    "tags": []
   },
   "outputs": [
    {
     "name": "stdout",
     "output_type": "stream",
     "text": [
      "10.752880921895006\n"
     ]
    },
    {
     "data": {
      "image/png": "[encoded data removed]",
      "text/plain": [
       "<Figure size 432x288 with 1 Axes>"
      ]
     },
     "metadata": {
      "needs_background": "light"
     },
     "output_type": "display_data"
    }
   ],
   "source": [
    "data['default'].value_counts().plot.barh()\n",
    "print(len(data[data['default']==0])/len(data[data['default']==1]))"
   ]
  },
  {
   "cell_type": "markdown",
   "metadata": {
    "papermill": {
     "duration": 0.06048,
     "end_time": "2021-11-30T06:36:36.045222",
     "exception": false,
     "start_time": "2021-11-30T06:36:35.984742",
     "status": "completed"
    },
    "tags": []
   },
   "source": [
    "Как мы можем видеть, клиенты без дефолта преобладают нам клиентами с дефолтом почти в 11 раз."
   ]
  },
  {
   "cell_type": "code",
   "execution_count": 23,
   "metadata": {
    "execution": {
     "iopub.execute_input": "2021-11-30T06:36:36.186401Z",
     "iopub.status.busy": "2021-11-30T06:36:36.185737Z",
     "iopub.status.idle": "2021-11-30T06:36:37.100411Z",
     "shell.execute_reply": "2021-11-30T06:36:37.099697Z",
     "shell.execute_reply.started": "2021-11-30T06:27:49.810534Z"
    },
    "papermill": {
     "duration": 0.994577,
     "end_time": "2021-11-30T06:36:37.100578",
     "exception": false,
     "start_time": "2021-11-30T06:36:36.106001",
     "status": "completed"
    },
    "tags": []
   },
   "outputs": [
    {
     "data": {
      "text/plain": [
       "Text(0.5, 1.0, 'income')"
      ]
     },
     "execution_count": 23,
     "metadata": {},
     "output_type": "execute_result"
    },
    {
     "data": {
      "image/png": "[encoded data removed]",
      "text/plain": [
       "<Figure size 720x720 with 4 Axes>"
      ]
     },
     "metadata": {
      "needs_background": "light"
     },
     "output_type": "display_data"
    }
   ],
   "source": [
    "fig, axes = plt.subplots(2, 2, figsize=(10,10))\n",
    "\n",
    "axes[0,0].hist(data['age'], bins = 50)\n",
    "axes[0,0].set_title(\"age\")\n",
    "\n",
    "axes[0,1].hist(data['decline_app_cnt'], bins = 50, range=(0,10))\n",
    "axes[0,1].set_title(\"decline_app_cnt\")\n",
    "\n",
    "axes[1,0].hist(data['bki_request_cnt'], bins = 50,  range=(0,20))\n",
    "axes[1,0].set_title(\"bki_request_cnt\")\n",
    "\n",
    "axes[1,1].hist(data['income'], bins = 50)\n",
    "axes[1,1].set_title(\"income\")"
   ]
  },
  {
   "cell_type": "markdown",
   "metadata": {
    "execution": {
     "iopub.execute_input": "2021-06-18T07:35:18.370238Z",
     "iopub.status.busy": "2021-06-18T07:35:18.369831Z",
     "iopub.status.idle": "2021-06-18T07:35:18.376645Z",
     "shell.execute_reply": "2021-06-18T07:35:18.37518Z",
     "shell.execute_reply.started": "2021-06-18T07:35:18.370202Z"
    },
    "papermill": {
     "duration": 0.063149,
     "end_time": "2021-11-30T06:36:37.226467",
     "exception": false,
     "start_time": "2021-11-30T06:36:37.163318",
     "status": "completed"
    },
    "tags": []
   },
   "source": [
    "По данным гистограммам можно сделать вывод, что распределения не являются нормальными и смещены вправо. При построении модели необходимо будет выполнить стандартизацию численных признаков."
   ]
  },
  {
   "cell_type": "markdown",
   "metadata": {
    "papermill": {
     "duration": 0.062901,
     "end_time": "2021-11-30T06:36:37.352341",
     "exception": false,
     "start_time": "2021-11-30T06:36:37.289440",
     "status": "completed"
    },
    "tags": []
   },
   "source": [
    "### 4. Оценка корреляции"
   ]
  },
  {
   "cell_type": "code",
   "execution_count": 24,
   "metadata": {
    "execution": {
     "iopub.execute_input": "2021-11-30T06:36:37.510795Z",
     "iopub.status.busy": "2021-11-30T06:36:37.504461Z",
     "iopub.status.idle": "2021-11-30T06:36:37.872150Z",
     "shell.execute_reply": "2021-11-30T06:36:37.871510Z",
     "shell.execute_reply.started": "2021-11-30T06:27:50.676958Z"
    },
    "papermill": {
     "duration": 0.457228,
     "end_time": "2021-11-30T06:36:37.872307",
     "exception": false,
     "start_time": "2021-11-30T06:36:37.415079",
     "status": "completed"
    },
    "tags": []
   },
   "outputs": [
    {
     "data": {
      "text/plain": [
       "<AxesSubplot:>"
      ]
     },
     "execution_count": 24,
     "metadata": {},
     "output_type": "execute_result"
    },
    {
     "data": {
      "image/png": "[encoded data removed]",
      "text/plain": [
       "<Figure size 504x504 with 2 Axes>"
      ]
     },
     "metadata": {},
     "output_type": "display_data"
    }
   ],
   "source": [
    "# Посмотрим матрицу коэффициента корреляции численных признаком\n",
    "sns.set(font_scale = 1)\n",
    "fig, axis = plt.subplots(figsize=(7,7))\n",
    "sns.heatmap(data[num_cols].corr().abs(), vmin=0, vmax=1, square=True,\n",
    "           annot=True, fmt=\".2f\", linewidths=0.1)"
   ]
  },
  {
   "cell_type": "markdown",
   "metadata": {
    "papermill": {
     "duration": 0.064682,
     "end_time": "2021-11-30T06:36:38.003532",
     "exception": false,
     "start_time": "2021-11-30T06:36:37.938850",
     "status": "completed"
    },
    "tags": []
   },
   "source": [
    "Исходя из данной матрицы корреляции видно, что признаки между собой скореллированы слабо. Поэтому оставим их все для модели."
   ]
  },
  {
   "cell_type": "markdown",
   "metadata": {
    "papermill": {
     "duration": 0.064701,
     "end_time": "2021-11-30T06:36:38.132748",
     "exception": false,
     "start_time": "2021-11-30T06:36:38.068047",
     "status": "completed"
    },
    "tags": []
   },
   "source": [
    "### 5. Значимость непрерывных признаков"
   ]
  },
  {
   "cell_type": "code",
   "execution_count": 25,
   "metadata": {
    "execution": {
     "iopub.execute_input": "2021-11-30T06:36:38.270999Z",
     "iopub.status.busy": "2021-11-30T06:36:38.270294Z",
     "iopub.status.idle": "2021-11-30T06:36:38.458687Z",
     "shell.execute_reply": "2021-11-30T06:36:38.458006Z",
     "shell.execute_reply.started": "2021-11-30T06:27:51.058310Z"
    },
    "papermill": {
     "duration": 0.262223,
     "end_time": "2021-11-30T06:36:38.458827",
     "exception": false,
     "start_time": "2021-11-30T06:36:38.196604",
     "status": "completed"
    },
    "tags": []
   },
   "outputs": [
    {
     "data": {
      "text/plain": [
       "<AxesSubplot:>"
      ]
     },
     "execution_count": 25,
     "metadata": {},
     "output_type": "execute_result"
    },
    {
     "data": {
      "image/png": "[encoded data removed]",
      "text/plain": [
       "<Figure size 432x288 with 1 Axes>"
      ]
     },
     "metadata": {},
     "output_type": "display_data"
    }
   ],
   "source": [
    "imp_num = pd.Series(f_classif(data[num_cols], data['default'])[0], index = num_cols)\n",
    "imp_num.sort_values(inplace = True)\n",
    "imp_num.plot(kind = 'barh', color='green')"
   ]
  },
  {
   "cell_type": "markdown",
   "metadata": {
    "papermill": {
     "duration": 0.065131,
     "end_time": "2021-11-30T06:36:38.589598",
     "exception": false,
     "start_time": "2021-11-30T06:36:38.524467",
     "status": "completed"
    },
    "tags": []
   },
   "source": [
    "Скоринговый балл по данным из БКИ (score_bki) является одним из самых значимых числовых признаков"
   ]
  },
  {
   "cell_type": "markdown",
   "metadata": {
    "execution": {
     "iopub.execute_input": "2021-06-18T07:56:08.832195Z",
     "iopub.status.busy": "2021-06-18T07:56:08.831779Z",
     "iopub.status.idle": "2021-06-18T07:56:08.835761Z",
     "shell.execute_reply": "2021-06-18T07:56:08.834815Z",
     "shell.execute_reply.started": "2021-06-18T07:56:08.832158Z"
    },
    "papermill": {
     "duration": 0.065096,
     "end_time": "2021-11-30T06:36:38.720812",
     "exception": false,
     "start_time": "2021-11-30T06:36:38.655716",
     "status": "completed"
    },
    "tags": []
   },
   "source": [
    "### 6. Оценка категориальных признаков"
   ]
  },
  {
   "cell_type": "code",
   "execution_count": 26,
   "metadata": {
    "execution": {
     "iopub.execute_input": "2021-11-30T06:36:38.867415Z",
     "iopub.status.busy": "2021-11-30T06:36:38.861244Z",
     "iopub.status.idle": "2021-11-30T06:36:39.079603Z",
     "shell.execute_reply": "2021-11-30T06:36:39.079009Z",
     "shell.execute_reply.started": "2021-11-30T06:27:51.247929Z"
    },
    "papermill": {
     "duration": 0.293417,
     "end_time": "2021-11-30T06:36:39.079750",
     "exception": false,
     "start_time": "2021-11-30T06:36:38.786333",
     "status": "completed"
    },
    "tags": []
   },
   "outputs": [
    {
     "data": {
      "text/html": [
       "<div>\n",
       "<style scoped>\n",
       "    .dataframe tbody tr th:only-of-type {\n",
       "        vertical-align: middle;\n",
       "    }\n",
       "\n",
       "    .dataframe tbody tr th {\n",
       "        vertical-align: top;\n",
       "    }\n",
       "\n",
       "    .dataframe thead th {\n",
       "        text-align: right;\n",
       "    }\n",
       "</style>\n",
       "<table border=\"1\" class=\"dataframe\">\n",
       "  <thead>\n",
       "    <tr style=\"text-align: right;\">\n",
       "      <th></th>\n",
       "      <th>client_id</th>\n",
       "      <th>app_date</th>\n",
       "      <th>education</th>\n",
       "      <th>sex</th>\n",
       "      <th>age</th>\n",
       "      <th>car</th>\n",
       "      <th>car_type</th>\n",
       "      <th>decline_app_cnt</th>\n",
       "      <th>good_work</th>\n",
       "      <th>score_bki</th>\n",
       "      <th>bki_request_cnt</th>\n",
       "      <th>region_rating</th>\n",
       "      <th>home_address</th>\n",
       "      <th>work_address</th>\n",
       "      <th>income</th>\n",
       "      <th>sna</th>\n",
       "      <th>first_time</th>\n",
       "      <th>foreign_passport</th>\n",
       "      <th>sample</th>\n",
       "      <th>default</th>\n",
       "    </tr>\n",
       "  </thead>\n",
       "  <tbody>\n",
       "    <tr>\n",
       "      <th>0</th>\n",
       "      <td>74835</td>\n",
       "      <td>3</td>\n",
       "      <td>1</td>\n",
       "      <td>1</td>\n",
       "      <td>29</td>\n",
       "      <td>1</td>\n",
       "      <td>1</td>\n",
       "      <td>0</td>\n",
       "      <td>0</td>\n",
       "      <td>-2.271884</td>\n",
       "      <td>3</td>\n",
       "      <td>50</td>\n",
       "      <td>1</td>\n",
       "      <td>2</td>\n",
       "      <td>10.819798</td>\n",
       "      <td>1</td>\n",
       "      <td>4</td>\n",
       "      <td>0</td>\n",
       "      <td>0</td>\n",
       "      <td>0</td>\n",
       "    </tr>\n",
       "    <tr>\n",
       "      <th>1</th>\n",
       "      <td>17527</td>\n",
       "      <td>1</td>\n",
       "      <td>3</td>\n",
       "      <td>0</td>\n",
       "      <td>39</td>\n",
       "      <td>0</td>\n",
       "      <td>0</td>\n",
       "      <td>3</td>\n",
       "      <td>0</td>\n",
       "      <td>-1.504999</td>\n",
       "      <td>2</td>\n",
       "      <td>50</td>\n",
       "      <td>1</td>\n",
       "      <td>2</td>\n",
       "      <td>8.517393</td>\n",
       "      <td>4</td>\n",
       "      <td>3</td>\n",
       "      <td>0</td>\n",
       "      <td>0</td>\n",
       "      <td>0</td>\n",
       "    </tr>\n",
       "    <tr>\n",
       "      <th>2</th>\n",
       "      <td>75683</td>\n",
       "      <td>3</td>\n",
       "      <td>4</td>\n",
       "      <td>1</td>\n",
       "      <td>50</td>\n",
       "      <td>1</td>\n",
       "      <td>1</td>\n",
       "      <td>0</td>\n",
       "      <td>0</td>\n",
       "      <td>-1.691339</td>\n",
       "      <td>1</td>\n",
       "      <td>50</td>\n",
       "      <td>1</td>\n",
       "      <td>2</td>\n",
       "      <td>10.308986</td>\n",
       "      <td>1</td>\n",
       "      <td>3</td>\n",
       "      <td>1</td>\n",
       "      <td>0</td>\n",
       "      <td>0</td>\n",
       "    </tr>\n",
       "    <tr>\n",
       "      <th>3</th>\n",
       "      <td>26883</td>\n",
       "      <td>2</td>\n",
       "      <td>3</td>\n",
       "      <td>1</td>\n",
       "      <td>56</td>\n",
       "      <td>0</td>\n",
       "      <td>0</td>\n",
       "      <td>0</td>\n",
       "      <td>0</td>\n",
       "      <td>-2.374182</td>\n",
       "      <td>1</td>\n",
       "      <td>40</td>\n",
       "      <td>1</td>\n",
       "      <td>2</td>\n",
       "      <td>9.741027</td>\n",
       "      <td>1</td>\n",
       "      <td>3</td>\n",
       "      <td>0</td>\n",
       "      <td>0</td>\n",
       "      <td>0</td>\n",
       "    </tr>\n",
       "    <tr>\n",
       "      <th>4</th>\n",
       "      <td>28862</td>\n",
       "      <td>2</td>\n",
       "      <td>1</td>\n",
       "      <td>0</td>\n",
       "      <td>38</td>\n",
       "      <td>0</td>\n",
       "      <td>0</td>\n",
       "      <td>0</td>\n",
       "      <td>0</td>\n",
       "      <td>-2.487502</td>\n",
       "      <td>0</td>\n",
       "      <td>80</td>\n",
       "      <td>2</td>\n",
       "      <td>3</td>\n",
       "      <td>11.695255</td>\n",
       "      <td>1</td>\n",
       "      <td>3</td>\n",
       "      <td>0</td>\n",
       "      <td>0</td>\n",
       "      <td>0</td>\n",
       "    </tr>\n",
       "  </tbody>\n",
       "</table>\n",
       "</div>"
      ],
      "text/plain": [
       "   client_id  app_date  education  sex  age  car  car_type  decline_app_cnt  \\\n",
       "0      74835         3          1    1   29    1         1                0   \n",
       "1      17527         1          3    0   39    0         0                3   \n",
       "2      75683         3          4    1   50    1         1                0   \n",
       "3      26883         2          3    1   56    0         0                0   \n",
       "4      28862         2          1    0   38    0         0                0   \n",
       "\n",
       "   good_work  score_bki  bki_request_cnt  region_rating  home_address  \\\n",
       "0          0  -2.271884                3             50             1   \n",
       "1          0  -1.504999                2             50             1   \n",
       "2          0  -1.691339                1             50             1   \n",
       "3          0  -2.374182                1             40             1   \n",
       "4          0  -2.487502                0             80             2   \n",
       "\n",
       "   work_address     income  sna  first_time  foreign_passport  sample  default  \n",
       "0             2  10.819798    1           4                 0       0        0  \n",
       "1             2   8.517393    4           3                 0       0        0  \n",
       "2             2  10.308986    1           3                 1       0        0  \n",
       "3             2   9.741027    1           3                 0       0        0  \n",
       "4             3  11.695255    1           3                 0       0        0  "
      ]
     },
     "execution_count": 26,
     "metadata": {},
     "output_type": "execute_result"
    }
   ],
   "source": [
    "# Для бинарных признаков мы будем использовать LabelEncoder\n",
    "\n",
    "label_encoder = LabelEncoder()\n",
    "\n",
    "for column in bin_cols:\n",
    "    data[column] = label_encoder.fit_transform(data[column])\n",
    "    \n",
    "data['education'] = label_encoder.fit_transform(data['education'])\n",
    "# убедимся в преобразовании    \n",
    "data.head()"
   ]
  },
  {
   "cell_type": "code",
   "execution_count": 27,
   "metadata": {
    "execution": {
     "iopub.execute_input": "2021-11-30T06:36:39.220911Z",
     "iopub.status.busy": "2021-11-30T06:36:39.219240Z",
     "iopub.status.idle": "2021-11-30T06:36:39.685369Z",
     "shell.execute_reply": "2021-11-30T06:36:39.685910Z",
     "shell.execute_reply.started": "2021-11-30T06:27:51.476556Z"
    },
    "papermill": {
     "duration": 0.539862,
     "end_time": "2021-11-30T06:36:39.686090",
     "exception": false,
     "start_time": "2021-11-30T06:36:39.146228",
     "status": "completed"
    },
    "tags": []
   },
   "outputs": [
    {
     "data": {
      "text/plain": [
       "<AxesSubplot:>"
      ]
     },
     "execution_count": 27,
     "metadata": {},
     "output_type": "execute_result"
    },
    {
     "data": {
      "image/png": "[encoded data removed]",
      "text/plain": [
       "<Figure size 432x288 with 1 Axes>"
      ]
     },
     "metadata": {},
     "output_type": "display_data"
    }
   ],
   "source": [
    "imp_cat = Series(mutual_info_classif(data[bin_cols + cat_cols], data['default'],\n",
    "                                     discrete_features =True), index = bin_cols + cat_cols)\n",
    "imp_cat.sort_values(inplace = True)\n",
    "imp_cat.plot(kind = 'barh', color='green')"
   ]
  },
  {
   "cell_type": "markdown",
   "metadata": {
    "papermill": {
     "duration": 0.067101,
     "end_time": "2021-11-30T06:36:39.820436",
     "exception": false,
     "start_time": "2021-11-30T06:36:39.753335",
     "status": "completed"
    },
    "tags": []
   },
   "source": [
    "Исходя из анализа mutual_info_classif наиболее важным из категориальных признаков является sna"
   ]
  },
  {
   "cell_type": "markdown",
   "metadata": {
    "papermill": {
     "duration": 0.069686,
     "end_time": "2021-11-30T06:36:39.957784",
     "exception": false,
     "start_time": "2021-11-30T06:36:39.888098",
     "status": "completed"
    },
    "tags": []
   },
   "source": [
    "### 7. Feature Engineering"
   ]
  },
  {
   "cell_type": "code",
   "execution_count": 28,
   "metadata": {
    "execution": {
     "iopub.execute_input": "2021-11-30T06:36:40.102052Z",
     "iopub.status.busy": "2021-11-30T06:36:40.101303Z",
     "iopub.status.idle": "2021-11-30T06:36:40.104868Z",
     "shell.execute_reply": "2021-11-30T06:36:40.104176Z",
     "shell.execute_reply.started": "2021-11-30T06:27:51.928628Z"
    },
    "papermill": {
     "duration": 0.078435,
     "end_time": "2021-11-30T06:36:40.105044",
     "exception": false,
     "start_time": "2021-11-30T06:36:40.026609",
     "status": "completed"
    },
    "tags": []
   },
   "outputs": [],
   "source": [
    "# Переведем колонки region_rating, first_time и home_address из категориальных в численные,\n",
    "# т.к. при их стандартизации значение метрики roc-auc получается выше, чем при создании из\n",
    "# них dummy-переменных\n",
    "cat_cols.remove('region_rating')\n",
    "num_cols.append('region_rating')\n",
    "\n",
    "cat_cols.remove('first_time')\n",
    "num_cols.append('first_time')\n",
    "\n",
    "cat_cols.remove('home_address')\n",
    "num_cols.append('home_address')"
   ]
  },
  {
   "cell_type": "markdown",
   "metadata": {
    "papermill": {
     "duration": 0.067783,
     "end_time": "2021-11-30T06:36:40.242127",
     "exception": false,
     "start_time": "2021-11-30T06:36:40.174344",
     "status": "completed"
    },
    "tags": []
   },
   "source": [
    "### 8. Подготовка данных к машинному обучению"
   ]
  },
  {
   "cell_type": "code",
   "execution_count": 29,
   "metadata": {
    "execution": {
     "iopub.execute_input": "2021-11-30T06:36:40.391627Z",
     "iopub.status.busy": "2021-11-30T06:36:40.390913Z",
     "iopub.status.idle": "2021-11-30T06:36:40.411490Z",
     "shell.execute_reply": "2021-11-30T06:36:40.410902Z",
     "shell.execute_reply.started": "2021-11-30T06:27:51.935459Z"
    },
    "papermill": {
     "duration": 0.099605,
     "end_time": "2021-11-30T06:36:40.411657",
     "exception": false,
     "start_time": "2021-11-30T06:36:40.312052",
     "status": "completed"
    },
    "tags": []
   },
   "outputs": [],
   "source": [
    "# Преобразуем категориальные признаки с помощью get_dummies\n",
    "data = pd.get_dummies(data, columns=cat_cols)"
   ]
  },
  {
   "cell_type": "code",
   "execution_count": 30,
   "metadata": {
    "execution": {
     "iopub.execute_input": "2021-11-30T06:36:40.553290Z",
     "iopub.status.busy": "2021-11-30T06:36:40.552634Z",
     "iopub.status.idle": "2021-11-30T06:36:40.607489Z",
     "shell.execute_reply": "2021-11-30T06:36:40.608015Z",
     "shell.execute_reply.started": "2021-11-30T06:27:51.971800Z"
    },
    "papermill": {
     "duration": 0.128535,
     "end_time": "2021-11-30T06:36:40.608202",
     "exception": false,
     "start_time": "2021-11-30T06:36:40.479667",
     "status": "completed"
    },
    "tags": []
   },
   "outputs": [],
   "source": [
    "# выполним стандартизацию численных переменных\n",
    "data[num_cols] = pd.DataFrame(StandardScaler().fit_transform(data[num_cols]),\n",
    "                              columns=num_cols)"
   ]
  },
  {
   "cell_type": "code",
   "execution_count": 31,
   "metadata": {
    "execution": {
     "iopub.execute_input": "2021-11-30T06:36:40.756332Z",
     "iopub.status.busy": "2021-11-30T06:36:40.750129Z",
     "iopub.status.idle": "2021-11-30T06:36:40.793082Z",
     "shell.execute_reply": "2021-11-30T06:36:40.792459Z",
     "shell.execute_reply.started": "2021-11-30T06:27:52.021744Z"
    },
    "papermill": {
     "duration": 0.116572,
     "end_time": "2021-11-30T06:36:40.793246",
     "exception": false,
     "start_time": "2021-11-30T06:36:40.676674",
     "status": "completed"
    },
    "tags": []
   },
   "outputs": [],
   "source": [
    "# Разделим обратно на train и test\n",
    "train = data.query('sample == 1').drop(['sample'], axis=1)\n",
    "test = data.query('sample == 0').drop(['sample'], axis=1)"
   ]
  },
  {
   "cell_type": "code",
   "execution_count": 32,
   "metadata": {
    "execution": {
     "iopub.execute_input": "2021-11-30T06:36:40.940462Z",
     "iopub.status.busy": "2021-11-30T06:36:40.939621Z",
     "iopub.status.idle": "2021-11-30T06:36:40.944146Z",
     "shell.execute_reply": "2021-11-30T06:36:40.943384Z",
     "shell.execute_reply.started": "2021-11-30T06:27:52.064514Z"
    },
    "papermill": {
     "duration": 0.082871,
     "end_time": "2021-11-30T06:36:40.944298",
     "exception": false,
     "start_time": "2021-11-30T06:36:40.861427",
     "status": "completed"
    },
    "tags": []
   },
   "outputs": [],
   "source": [
    "# удалим для X целевую переменную и client_id\n",
    "X = train.drop(columns = ['default', 'client_id'])\n",
    "Y = train['default']"
   ]
  },
  {
   "cell_type": "code",
   "execution_count": 33,
   "metadata": {
    "execution": {
     "iopub.execute_input": "2021-11-30T06:36:41.097583Z",
     "iopub.status.busy": "2021-11-30T06:36:41.096895Z",
     "iopub.status.idle": "2021-11-30T06:36:41.110997Z",
     "shell.execute_reply": "2021-11-30T06:36:41.110383Z",
     "shell.execute_reply.started": "2021-11-30T06:27:52.072792Z"
    },
    "papermill": {
     "duration": 0.099353,
     "end_time": "2021-11-30T06:36:41.111142",
     "exception": false,
     "start_time": "2021-11-30T06:36:41.011789",
     "status": "completed"
    },
    "tags": []
   },
   "outputs": [],
   "source": [
    "# Разделим выборку на train и test\n",
    "X_train, X_test, Y_train, Y_test = train_test_split(X, Y, random_state = RANDOM_SEED,\n",
    "                                                    test_size=0.2)"
   ]
  },
  {
   "cell_type": "markdown",
   "metadata": {
    "papermill": {
     "duration": 0.069815,
     "end_time": "2021-11-30T06:36:41.249662",
     "exception": false,
     "start_time": "2021-11-30T06:36:41.179847",
     "status": "completed"
    },
    "tags": []
   },
   "source": [
    "### 9.Модели\n",
    "#### 9.1 Логистическая регрессия"
   ]
  },
  {
   "cell_type": "code",
   "execution_count": 34,
   "metadata": {
    "execution": {
     "iopub.execute_input": "2021-11-30T06:36:41.387721Z",
     "iopub.status.busy": "2021-11-30T06:36:41.387049Z",
     "iopub.status.idle": "2021-11-30T06:36:42.976488Z",
     "shell.execute_reply": "2021-11-30T06:36:42.977017Z",
     "shell.execute_reply.started": "2021-11-30T06:27:52.105553Z"
    },
    "papermill": {
     "duration": 1.659899,
     "end_time": "2021-11-30T06:36:42.977210",
     "exception": false,
     "start_time": "2021-11-30T06:36:41.317311",
     "status": "completed"
    },
    "tags": []
   },
   "outputs": [
    {
     "data": {
      "text/plain": [
       "<matplotlib.legend.Legend at 0x7f34eb296b50>"
      ]
     },
     "execution_count": 34,
     "metadata": {},
     "output_type": "execute_result"
    },
    {
     "data": {
      "image/png": "[encoded data removed]",
      "text/plain": [
       "<Figure size 720x360 with 1 Axes>"
      ]
     },
     "metadata": {},
     "output_type": "display_data"
    }
   ],
   "source": [
    "# Построим модель логистической регресии с параметрами \"по умолчанию\"\n",
    "model = LogisticRegression()\n",
    "model.fit(X_train, Y_train)\n",
    "probs = model.predict_proba(X_test)\n",
    "y_pred = model.predict(X_test)\n",
    "probs = probs[:,1]\n",
    "\n",
    "fpr, tpr, threshold = roc_curve(Y_test, probs)\n",
    "roc_auc = roc_auc_score(Y_test, probs)\n",
    "\n",
    "fig, ax = plt.subplots(figsize=(10,5))\n",
    "plt.plot([0, 1], label='Baseline', linestyle='--')\n",
    "plt.plot(fpr, tpr, label = 'Regression')\n",
    "ax.set_title('Logistic Regression ROC AUC = %0.3f'%roc_auc)\n",
    "plt.ylabel('True Positive Rate')\n",
    "plt.xlabel('False Positive Rate')\n",
    "plt.legend(loc='lower right')"
   ]
  },
  {
   "cell_type": "code",
   "execution_count": 35,
   "metadata": {
    "execution": {
     "iopub.execute_input": "2021-11-30T06:36:43.119263Z",
     "iopub.status.busy": "2021-11-30T06:36:43.118606Z",
     "iopub.status.idle": "2021-11-30T06:36:43.141660Z",
     "shell.execute_reply": "2021-11-30T06:36:43.142393Z",
     "shell.execute_reply.started": "2021-11-30T06:27:53.608400Z"
    },
    "papermill": {
     "duration": 0.095964,
     "end_time": "2021-11-30T06:36:43.142648",
     "exception": false,
     "start_time": "2021-11-30T06:36:43.046684",
     "status": "completed"
    },
    "tags": []
   },
   "outputs": [
    {
     "name": "stdout",
     "output_type": "stream",
     "text": [
      "accuracy_score: 0.874\n",
      "f1_score: 0.0606\n",
      "recall_score: 0.0322\n",
      "MSE: 0.126\n"
     ]
    }
   ],
   "source": [
    "print('accuracy_score: {}'.format(np.round(accuracy_score(Y_test, y_pred), 4)))\n",
    "print('f1_score: {}'.format(np.round(f1_score(Y_test, y_pred), 4)))\n",
    "print('recall_score: {}'.format(np.round(recall_score(Y_test, y_pred), 4)))\n",
    "print('MSE: {}'.format(np.round(mean_squared_error(Y_test, y_pred), 4)))"
   ]
  },
  {
   "cell_type": "code",
   "execution_count": 36,
   "metadata": {
    "execution": {
     "iopub.execute_input": "2021-11-30T06:36:43.285519Z",
     "iopub.status.busy": "2021-11-30T06:36:43.284532Z",
     "iopub.status.idle": "2021-11-30T06:36:43.601658Z",
     "shell.execute_reply": "2021-11-30T06:36:43.600967Z",
     "shell.execute_reply.started": "2021-11-30T06:27:53.633165Z"
    },
    "papermill": {
     "duration": 0.388972,
     "end_time": "2021-11-30T06:36:43.601798",
     "exception": false,
     "start_time": "2021-11-30T06:36:43.212826",
     "status": "completed"
    },
    "tags": []
   },
   "outputs": [
    {
     "data": {
      "image/png": "[encoded data removed]",
      "text/plain": [
       "<Figure size 432x288 with 2 Axes>"
      ]
     },
     "metadata": {},
     "output_type": "display_data"
    }
   ],
   "source": [
    "# Визуализация confusion matrix:\n",
    "sns.set_context(context='paper', font_scale=2, rc=None)\n",
    "group_names = ['True Pos', 'False Pos', 'False Neg', 'True Neg']\n",
    "group_counts = ['{0:0.0f}'.format(value) for value in\n",
    "                confusion_matrix(Y_test, y_pred).flatten()]\n",
    "labels = [f'{v1}\\n{v2}' for v1, v2 in\n",
    "          zip(group_names, group_counts)]\n",
    "labels = np.asarray(labels).reshape(2, 2)\n",
    "ax = sns.heatmap(confusion_matrix(Y_test, y_pred), annot=labels, fmt='', cmap='Greens')\n",
    "ax.set(xlabel='predicted', ylabel='real',title = 'Confusion matrix')\n",
    "plt.show()"
   ]
  },
  {
   "cell_type": "markdown",
   "metadata": {
    "papermill": {
     "duration": 0.07246,
     "end_time": "2021-11-30T06:36:43.745505",
     "exception": false,
     "start_time": "2021-11-30T06:36:43.673045",
     "status": "completed"
    },
    "tags": []
   },
   "source": [
    "Рассмотрев матрицу ошибок, можно сделать вывод, что почти во всех случаях, когда клиент не способен выплатить кредит - модель все равно его выдаст. Данное решение приведет к падению доходов банка. Попробуем найти оптимальные гиперпараметры."
   ]
  },
  {
   "cell_type": "markdown",
   "metadata": {
    "papermill": {
     "duration": 0.072079,
     "end_time": "2021-11-30T06:36:43.892152",
     "exception": false,
     "start_time": "2021-11-30T06:36:43.820073",
     "status": "completed"
    },
    "tags": []
   },
   "source": [
    "#### 9.1.1 Логистическая регрессия (гиперпараметры)"
   ]
  },
  {
   "cell_type": "code",
   "execution_count": 37,
   "metadata": {
    "execution": {
     "iopub.execute_input": "2021-11-30T06:36:44.039779Z",
     "iopub.status.busy": "2021-11-30T06:36:44.038778Z",
     "iopub.status.idle": "2021-11-30T06:37:18.914324Z",
     "shell.execute_reply": "2021-11-30T06:37:18.914833Z",
     "shell.execute_reply.started": "2021-11-30T06:27:53.932196Z"
    },
    "papermill": {
     "duration": 34.950425,
     "end_time": "2021-11-30T06:37:18.915022",
     "exception": false,
     "start_time": "2021-11-30T06:36:43.964597",
     "status": "completed"
    },
    "tags": []
   },
   "outputs": [
    {
     "name": "stdout",
     "output_type": "stream",
     "text": [
      "Fitting 2 folds for each of 50 candidates, totalling 100 fits\n"
     ]
    },
    {
     "data": {
      "text/plain": [
       "<matplotlib.legend.Legend at 0x7f34eb11b1d0>"
      ]
     },
     "execution_count": 37,
     "metadata": {},
     "output_type": "execute_result"
    },
    {
     "data": {
      "image/png": "[encoded data removed]",
      "text/plain": [
       "<Figure size 720x360 with 1 Axes>"
      ]
     },
     "metadata": {},
     "output_type": "display_data"
    }
   ],
   "source": [
    "# Попробуем поменять class_weight и с помощью GridSearchCV найти оптимальные параметры\n",
    "lr_best = LogisticRegression(class_weight='balanced',\n",
    "                            random_state=RANDOM_SEED)\n",
    "\n",
    "params = {'C': np.linspace(0, 100, 5),\n",
    "         'max_iter': np.linspace(start=1,stop=1000,num=10, dtype=int)}\n",
    "\n",
    "model_best = GridSearchCV(lr_best, param_grid=params, verbose=1, cv=2)\n",
    "\n",
    "model_best.fit(X_train, Y_train)\n",
    "probs = model_best.predict_proba(X_test)\n",
    "y_pred = model_best.predict(X_test)\n",
    "probs = probs[:,1]\n",
    "\n",
    "fpr, tpr, threshold = roc_curve(Y_test, probs)\n",
    "roc_auc = roc_auc_score(Y_test, probs)\n",
    "\n",
    "fig, ax = plt.subplots(figsize=(10,5))\n",
    "plt.plot([0, 1], label='Baseline', linestyle='--')\n",
    "plt.plot(fpr, tpr, label = 'Regression')\n",
    "ax.set_title('Logistic Regression ROC AUC = %0.5f'%roc_auc)\n",
    "plt.ylabel('True Positive Rate')\n",
    "plt.xlabel('False Positive Rate')\n",
    "plt.legend(loc='lower right')"
   ]
  },
  {
   "cell_type": "code",
   "execution_count": 38,
   "metadata": {
    "execution": {
     "iopub.execute_input": "2021-11-30T06:37:19.070469Z",
     "iopub.status.busy": "2021-11-30T06:37:19.069803Z",
     "iopub.status.idle": "2021-11-30T06:37:19.092264Z",
     "shell.execute_reply": "2021-11-30T06:37:19.092744Z",
     "shell.execute_reply.started": "2021-11-30T06:28:26.069638Z"
    },
    "papermill": {
     "duration": 0.102202,
     "end_time": "2021-11-30T06:37:19.092935",
     "exception": false,
     "start_time": "2021-11-30T06:37:18.990733",
     "status": "completed"
    },
    "tags": []
   },
   "outputs": [
    {
     "name": "stdout",
     "output_type": "stream",
     "text": [
      "accuracy_score: 0.6731\n",
      "f1_score: 0.3362\n",
      "recall_score: 0.6566\n",
      "MSE: 0.3269\n"
     ]
    }
   ],
   "source": [
    "print('accuracy_score: {}'.format(np.round(accuracy_score(Y_test, y_pred), 4)))\n",
    "print('f1_score: {}'.format(np.round(f1_score(Y_test, y_pred), 4)))\n",
    "print('recall_score: {}'.format(np.round(recall_score(Y_test, y_pred), 4)))\n",
    "print('MSE: {}'.format(np.round(mean_squared_error(Y_test, y_pred), 4)))"
   ]
  },
  {
   "cell_type": "code",
   "execution_count": 39,
   "metadata": {
    "execution": {
     "iopub.execute_input": "2021-11-30T06:37:19.249749Z",
     "iopub.status.busy": "2021-11-30T06:37:19.249010Z",
     "iopub.status.idle": "2021-11-30T06:37:19.542131Z",
     "shell.execute_reply": "2021-11-30T06:37:19.541446Z",
     "shell.execute_reply.started": "2021-11-30T06:28:26.095010Z"
    },
    "papermill": {
     "duration": 0.37508,
     "end_time": "2021-11-30T06:37:19.542274",
     "exception": false,
     "start_time": "2021-11-30T06:37:19.167194",
     "status": "completed"
    },
    "tags": []
   },
   "outputs": [
    {
     "data": {
      "image/png": "[encoded data removed]",
      "text/plain": [
       "<Figure size 432x288 with 2 Axes>"
      ]
     },
     "metadata": {},
     "output_type": "display_data"
    }
   ],
   "source": [
    "# Визуализация confusion matrix:\n",
    "sns.set_context(context='paper', font_scale=2, rc=None)\n",
    "group_names = ['True Pos', 'False Pos', 'False Neg', 'True Neg']\n",
    "group_counts = ['{0:0.0f}'.format(value) for value in\n",
    "                confusion_matrix(Y_test, y_pred).flatten()]\n",
    "labels = [f'{v1}\\n{v2}' for v1, v2 in\n",
    "          zip(group_names, group_counts)]\n",
    "labels = np.asarray(labels).reshape(2, 2)\n",
    "ax = sns.heatmap(confusion_matrix(Y_test, y_pred), annot=labels, fmt='', cmap='Greens')\n",
    "ax.set(xlabel='predicted', ylabel='real',title = 'Confusion matrix')\n",
    "plt.show()"
   ]
  },
  {
   "cell_type": "markdown",
   "metadata": {
    "papermill": {
     "duration": 0.075491,
     "end_time": "2021-11-30T06:37:19.694474",
     "exception": false,
     "start_time": "2021-11-30T06:37:19.618983",
     "status": "completed"
    },
    "tags": []
   },
   "source": [
    "Как мы видим по confusion matrix наша модель достаточно много раз ошибается и не выдает кредит клиентам, которые его выплатят (точность сильно понизилась относительно model), что ведет к уменьшению доходов банка. Оданако теперь модель не выдает кредит всем в подряд..."
   ]
  },
  {
   "cell_type": "markdown",
   "metadata": {
    "papermill": {
     "duration": 0.075855,
     "end_time": "2021-11-30T06:37:19.848195",
     "exception": false,
     "start_time": "2021-11-30T06:37:19.772340",
     "status": "completed"
    },
    "tags": []
   },
   "source": [
    "#### 9.1.2 Логистическая регрессия (undersampling)\n",
    "\n",
    "Так как в исходном датасете данные несбалансированные (один класс превосходит другой в 7 раз на train'е) можно попробовать выполнить undersampling, то есть случайным образом уменьшить преобладающий класс в 7 раз"
   ]
  },
  {
   "cell_type": "code",
   "execution_count": 40,
   "metadata": {
    "execution": {
     "iopub.execute_input": "2021-11-30T06:37:20.008573Z",
     "iopub.status.busy": "2021-11-30T06:37:20.007856Z",
     "iopub.status.idle": "2021-11-30T06:37:20.144298Z",
     "shell.execute_reply": "2021-11-30T06:37:20.144825Z",
     "shell.execute_reply.started": "2021-11-30T06:28:26.382685Z"
    },
    "papermill": {
     "duration": 0.22095,
     "end_time": "2021-11-30T06:37:20.145018",
     "exception": false,
     "start_time": "2021-11-30T06:37:19.924068",
     "status": "completed"
    },
    "tags": []
   },
   "outputs": [
    {
     "data": {
      "image/png": "[encoded data removed]",
      "text/plain": [
       "<Figure size 432x288 with 1 Axes>"
      ]
     },
     "metadata": {},
     "output_type": "display_data"
    },
    {
     "name": "stdout",
     "output_type": "stream",
     "text": [
      "Класс 0 преобладает над классом 1 в 6.9 раз\n"
     ]
    }
   ],
   "source": [
    "plt.pie(x=train['default'].value_counts(),\n",
    "       labels=list(train['default'].value_counts().index),\n",
    "       autopct='%6.1f%%',\n",
    "       explode=[0, 0.2],\n",
    "       shadow=True,\n",
    "       textprops={'fontsize': 15})\n",
    "plt.title('default')\n",
    "plt.show()\n",
    "\n",
    "print('Класс 0 преобладает над классом 1 в {} раз'.format(\n",
    "    round(train['default'].value_counts()[0]/train['default'].value_counts()[1],1)))"
   ]
  },
  {
   "cell_type": "code",
   "execution_count": 41,
   "metadata": {
    "execution": {
     "iopub.execute_input": "2021-11-30T06:37:20.301294Z",
     "iopub.status.busy": "2021-11-30T06:37:20.300593Z",
     "iopub.status.idle": "2021-11-30T06:37:20.341487Z",
     "shell.execute_reply": "2021-11-30T06:37:20.342019Z",
     "shell.execute_reply.started": "2021-11-30T06:28:26.517335Z"
    },
    "papermill": {
     "duration": 0.120702,
     "end_time": "2021-11-30T06:37:20.342220",
     "exception": false,
     "start_time": "2021-11-30T06:37:20.221518",
     "status": "completed"
    },
    "tags": []
   },
   "outputs": [],
   "source": [
    "# Выберем случайным образом из train['default']==0 такое количество строк, которое\n",
    "# равнялось бы train['default']==1, и затем объединим с train['default']==1.\n",
    "under_train = pd.concat([train[train['default']==0].sample(\n",
    "    len(train[train['default']==1]), random_state=RANDOM_SEED), train[train['default']==1]])\n",
    "\n",
    "X = under_train.drop(columns = ['default', 'client_id'])\n",
    "Y = under_train['default']\n",
    "\n",
    "X_train, X_test, Y_train, Y_test = train_test_split(X, Y, random_state = RANDOM_SEED,\n",
    "                                                    test_size=0.2)"
   ]
  },
  {
   "cell_type": "code",
   "execution_count": 42,
   "metadata": {
    "execution": {
     "iopub.execute_input": "2021-11-30T06:37:20.497756Z",
     "iopub.status.busy": "2021-11-30T06:37:20.496991Z",
     "iopub.status.idle": "2021-11-30T06:37:31.248072Z",
     "shell.execute_reply": "2021-11-30T06:37:31.248590Z",
     "shell.execute_reply.started": "2021-11-30T06:28:26.558205Z"
    },
    "papermill": {
     "duration": 10.830385,
     "end_time": "2021-11-30T06:37:31.248764",
     "exception": false,
     "start_time": "2021-11-30T06:37:20.418379",
     "status": "completed"
    },
    "tags": []
   },
   "outputs": [
    {
     "name": "stdout",
     "output_type": "stream",
     "text": [
      "Fitting 2 folds for each of 50 candidates, totalling 100 fits\n",
      "Лучшие параметры модели:  {'C': 100.0, 'max_iter': 56}\n"
     ]
    },
    {
     "data": {
      "image/png": "[encoded data removed]",
      "text/plain": [
       "<Figure size 720x360 with 1 Axes>"
      ]
     },
     "metadata": {},
     "output_type": "display_data"
    }
   ],
   "source": [
    "# Попробуем поменять class_weight и с помощью GridSearchCV найти оптимальные параметры\n",
    "lr_best = LogisticRegression(class_weight='balanced',\n",
    "                            random_state=RANDOM_SEED)\n",
    "\n",
    "params = {'C': np.linspace(0, 100, 5),\n",
    "         'max_iter': np.linspace(start=1,stop=500,num=10, dtype=int)}\n",
    "\n",
    "model_best = GridSearchCV(lr_best, param_grid=params, verbose=1, cv=2)\n",
    "\n",
    "model_best.fit(X_train, Y_train)\n",
    "probs = model_best.predict_proba(X_test)\n",
    "y_pred = model_best.predict(X_test)\n",
    "probs = probs[:,1]\n",
    "\n",
    "fpr, tpr, threshold = roc_curve(Y_test, probs)\n",
    "roc_auc = roc_auc_score(Y_test, probs)\n",
    "\n",
    "fig, ax = plt.subplots(figsize=(10,5))\n",
    "plt.plot([0, 1], label='Baseline', linestyle='--')\n",
    "plt.plot(fpr, tpr, label = 'Regression')\n",
    "ax.set_title('Logistic Regression ROC AUC = %0.5f'%roc_auc)\n",
    "plt.ylabel('True Positive Rate')\n",
    "plt.xlabel('False Positive Rate')\n",
    "plt.legend(loc='lower right')\n",
    "\n",
    "print(\"Лучшие параметры модели: \", model_best.best_params_)"
   ]
  },
  {
   "cell_type": "code",
   "execution_count": 43,
   "metadata": {
    "execution": {
     "iopub.execute_input": "2021-11-30T06:37:31.442906Z",
     "iopub.status.busy": "2021-11-30T06:37:31.441939Z",
     "iopub.status.idle": "2021-11-30T06:37:31.458617Z",
     "shell.execute_reply": "2021-11-30T06:37:31.459477Z",
     "shell.execute_reply.started": "2021-11-30T06:28:36.937250Z"
    },
    "papermill": {
     "duration": 0.11389,
     "end_time": "2021-11-30T06:37:31.459757",
     "exception": false,
     "start_time": "2021-11-30T06:37:31.345867",
     "status": "completed"
    },
    "tags": []
   },
   "outputs": [
    {
     "name": "stdout",
     "output_type": "stream",
     "text": [
      "accuracy_score: 0.6714\n",
      "f1_score: 0.6773\n",
      "recall_score: 0.6731\n",
      "MSE: 0.3286\n"
     ]
    }
   ],
   "source": [
    "print('accuracy_score: {}'.format(np.round(accuracy_score(Y_test, y_pred), 4)))\n",
    "print('f1_score: {}'.format(np.round(f1_score(Y_test, y_pred), 4)))\n",
    "print('recall_score: {}'.format(np.round(recall_score(Y_test, y_pred), 4)))\n",
    "print('MSE: {}'.format(np.round(mean_squared_error(Y_test, y_pred), 4)))"
   ]
  },
  {
   "cell_type": "code",
   "execution_count": 44,
   "metadata": {
    "execution": {
     "iopub.execute_input": "2021-11-30T06:37:31.630811Z",
     "iopub.status.busy": "2021-11-30T06:37:31.629846Z",
     "iopub.status.idle": "2021-11-30T06:37:31.915260Z",
     "shell.execute_reply": "2021-11-30T06:37:31.915719Z",
     "shell.execute_reply.started": "2021-11-30T06:28:36.956101Z"
    },
    "papermill": {
     "duration": 0.368513,
     "end_time": "2021-11-30T06:37:31.915896",
     "exception": false,
     "start_time": "2021-11-30T06:37:31.547383",
     "status": "completed"
    },
    "tags": []
   },
   "outputs": [
    {
     "data": {
      "image/png": "[encoded data removed]",
      "text/plain": [
       "<Figure size 432x288 with 2 Axes>"
      ]
     },
     "metadata": {},
     "output_type": "display_data"
    }
   ],
   "source": [
    "# Визуализация confusion matrix:\n",
    "sns.set_context(context='paper', font_scale=2, rc=None)\n",
    "group_names = ['True Pos', 'False Pos', 'False Neg', 'True Neg']\n",
    "group_counts = ['{0:0.0f}'.format(value) for value in\n",
    "                confusion_matrix(Y_test, y_pred).flatten()]\n",
    "labels = [f'{v1}\\n{v2}' for v1, v2 in\n",
    "          zip(group_names, group_counts)]\n",
    "labels = np.asarray(labels).reshape(2, 2)\n",
    "ax = sns.heatmap(confusion_matrix(Y_test, y_pred), annot=labels, fmt='', cmap='Greens')\n",
    "ax.set(xlabel='predicted', ylabel='real',title = 'Confusion matrix')\n",
    "plt.show()"
   ]
  },
  {
   "cell_type": "markdown",
   "metadata": {
    "papermill": {
     "duration": 0.081417,
     "end_time": "2021-11-30T06:37:32.079364",
     "exception": false,
     "start_time": "2021-11-30T06:37:31.997947",
     "status": "completed"
    },
    "tags": []
   },
   "source": [
    "После проведения undersampling'а модель явно лучше стала предсказывать класс TrueNegative. В целом неплохо, но стоит попробовать более сложную модель..."
   ]
  },
  {
   "cell_type": "markdown",
   "metadata": {
    "papermill": {
     "duration": 0.081501,
     "end_time": "2021-11-30T06:37:32.241662",
     "exception": false,
     "start_time": "2021-11-30T06:37:32.160161",
     "status": "completed"
    },
    "tags": []
   },
   "source": [
    "#### 9.2 CatBoost"
   ]
  },
  {
   "cell_type": "code",
   "execution_count": 45,
   "metadata": {
    "execution": {
     "iopub.execute_input": "2021-11-30T06:37:32.415760Z",
     "iopub.status.busy": "2021-11-30T06:37:32.414796Z",
     "iopub.status.idle": "2021-11-30T06:37:36.828509Z",
     "shell.execute_reply": "2021-11-30T06:37:36.827636Z",
     "shell.execute_reply.started": "2021-11-30T06:28:37.162681Z"
    },
    "papermill": {
     "duration": 4.505071,
     "end_time": "2021-11-30T06:37:36.828707",
     "exception": false,
     "start_time": "2021-11-30T06:37:32.323636",
     "status": "completed"
    },
    "tags": []
   },
   "outputs": [
    {
     "data": {
      "text/plain": [
       "<matplotlib.legend.Legend at 0x7f34c6643750>"
      ]
     },
     "execution_count": 45,
     "metadata": {},
     "output_type": "execute_result"
    },
    {
     "data": {
      "image/png": "[encoded data removed]",
      "text/plain": [
       "<Figure size 720x360 with 1 Axes>"
      ]
     },
     "metadata": {},
     "output_type": "display_data"
    }
   ],
   "source": [
    "cat = CatBoostClassifier(n_estimators=1000,\n",
    "                         depth=2,\n",
    "                         logging_level='Silent')\n",
    "\n",
    "cat.fit(X_train, Y_train)\n",
    "probs = cat.predict_proba(X_test)\n",
    "y_pred = cat.predict(X_test)\n",
    "probs = probs[:,1]\n",
    "\n",
    "fpr, tpr, threshold = roc_curve(Y_test, probs)\n",
    "roc_auc = roc_auc_score(Y_test, probs)\n",
    "\n",
    "fig, ax = plt.subplots(figsize=(10,5))\n",
    "plt.plot([0, 1], label='Baseline', linestyle='--')\n",
    "plt.plot(fpr, tpr, label = 'Regression')\n",
    "ax.set_title('Logistic Regression ROC AUC = %0.5f'%roc_auc)\n",
    "plt.ylabel('True Positive Rate')\n",
    "plt.xlabel('False Positive Rate')\n",
    "plt.legend(loc='lower right')"
   ]
  },
  {
   "cell_type": "code",
   "execution_count": 46,
   "metadata": {
    "execution": {
     "iopub.execute_input": "2021-11-30T06:37:37.002839Z",
     "iopub.status.busy": "2021-11-30T06:37:37.001662Z",
     "iopub.status.idle": "2021-11-30T06:37:37.015404Z",
     "shell.execute_reply": "2021-11-30T06:37:37.014837Z",
     "shell.execute_reply.started": "2021-11-30T06:28:41.358016Z"
    },
    "papermill": {
     "duration": 0.10406,
     "end_time": "2021-11-30T06:37:37.015574",
     "exception": false,
     "start_time": "2021-11-30T06:37:36.911514",
     "status": "completed"
    },
    "tags": []
   },
   "outputs": [
    {
     "name": "stdout",
     "output_type": "stream",
     "text": [
      "accuracy_score: 0.6831\n",
      "f1_score: 0.69\n",
      "recall_score: 0.6882\n",
      "MSE: 0.3169\n"
     ]
    }
   ],
   "source": [
    "print('accuracy_score: {}'.format(np.round(accuracy_score(Y_test, y_pred), 4)))\n",
    "print('f1_score: {}'.format(np.round(f1_score(Y_test, y_pred), 4)))\n",
    "print('recall_score: {}'.format(np.round(recall_score(Y_test, y_pred), 4)))\n",
    "print('MSE: {}'.format(np.round(mean_squared_error(Y_test, y_pred), 4)))"
   ]
  },
  {
   "cell_type": "code",
   "execution_count": 47,
   "metadata": {
    "execution": {
     "iopub.execute_input": "2021-11-30T06:37:37.192202Z",
     "iopub.status.busy": "2021-11-30T06:37:37.191407Z",
     "iopub.status.idle": "2021-11-30T06:37:37.453291Z",
     "shell.execute_reply": "2021-11-30T06:37:37.452788Z",
     "shell.execute_reply.started": "2021-11-30T06:28:41.375894Z"
    },
    "papermill": {
     "duration": 0.353317,
     "end_time": "2021-11-30T06:37:37.453445",
     "exception": false,
     "start_time": "2021-11-30T06:37:37.100128",
     "status": "completed"
    },
    "tags": []
   },
   "outputs": [
    {
     "data": {
      "image/png": "[encoded data removed]",
      "text/plain": [
       "<Figure size 432x288 with 2 Axes>"
      ]
     },
     "metadata": {},
     "output_type": "display_data"
    }
   ],
   "source": [
    "sns.set_context(context='paper', font_scale=2, rc=None)\n",
    "group_names = ['True Pos', 'False Pos', 'False Neg', 'True Neg']\n",
    "group_counts = ['{0:0.0f}'.format(value) for value in\n",
    "                confusion_matrix(Y_test, y_pred).flatten()]\n",
    "labels = [f'{v1}\\n{v2}' for v1, v2 in\n",
    "          zip(group_names, group_counts)]\n",
    "labels = np.asarray(labels).reshape(2, 2)\n",
    "ax = sns.heatmap(confusion_matrix(Y_test, y_pred), annot=labels, fmt='', cmap='Greens')\n",
    "ax.set(xlabel='predicted', ylabel='real',title = 'Confusion matrix')\n",
    "plt.show()"
   ]
  },
  {
   "cell_type": "markdown",
   "metadata": {
    "papermill": {
     "duration": 0.084686,
     "end_time": "2021-11-30T06:37:37.622649",
     "exception": false,
     "start_time": "2021-11-30T06:37:37.537963",
     "status": "completed"
    },
    "tags": []
   },
   "source": [
    "Результаты стали лучше, чем были в модели логистической регресии с гиперпараметрами и выполненым undersampling'ом, поэтому для сабмишена будет использовать модель CatBoostingClassifier"
   ]
  },
  {
   "cell_type": "code",
   "execution_count": 48,
   "metadata": {
    "execution": {
     "iopub.execute_input": "2021-11-30T06:37:37.800059Z",
     "iopub.status.busy": "2021-11-30T06:37:37.798977Z",
     "iopub.status.idle": "2021-11-30T06:37:37.829206Z",
     "shell.execute_reply": "2021-11-30T06:37:37.828495Z",
     "shell.execute_reply.started": "2021-11-30T06:28:41.590893Z"
    },
    "papermill": {
     "duration": 0.121641,
     "end_time": "2021-11-30T06:37:37.829362",
     "exception": false,
     "start_time": "2021-11-30T06:37:37.707721",
     "status": "completed"
    },
    "tags": []
   },
   "outputs": [],
   "source": [
    "X_test2 = test.drop(columns = ['default', 'client_id'])\n",
    "y_probs = cat.predict_proba(X_test2)[:,1]"
   ]
  },
  {
   "cell_type": "code",
   "execution_count": 49,
   "metadata": {
    "execution": {
     "iopub.execute_input": "2021-11-30T06:37:38.007444Z",
     "iopub.status.busy": "2021-11-30T06:37:38.006629Z",
     "iopub.status.idle": "2021-11-30T06:37:38.010513Z",
     "shell.execute_reply": "2021-11-30T06:37:38.009965Z",
     "shell.execute_reply.started": "2021-11-30T06:28:41.626494Z"
    },
    "papermill": {
     "duration": 0.095084,
     "end_time": "2021-11-30T06:37:38.010675",
     "exception": false,
     "start_time": "2021-11-30T06:37:37.915591",
     "status": "completed"
    },
    "tags": []
   },
   "outputs": [],
   "source": [
    "test['default'] = y_probs"
   ]
  },
  {
   "cell_type": "code",
   "execution_count": 50,
   "metadata": {
    "execution": {
     "iopub.execute_input": "2021-11-30T06:37:38.186435Z",
     "iopub.status.busy": "2021-11-30T06:37:38.185386Z",
     "iopub.status.idle": "2021-11-30T06:37:38.198966Z",
     "shell.execute_reply": "2021-11-30T06:37:38.199454Z",
     "shell.execute_reply.started": "2021-11-30T06:28:41.632118Z"
    },
    "papermill": {
     "duration": 0.104288,
     "end_time": "2021-11-30T06:37:38.199651",
     "exception": false,
     "start_time": "2021-11-30T06:37:38.095363",
     "status": "completed"
    },
    "tags": []
   },
   "outputs": [
    {
     "data": {
      "text/html": [
       "<div>\n",
       "<style scoped>\n",
       "    .dataframe tbody tr th:only-of-type {\n",
       "        vertical-align: middle;\n",
       "    }\n",
       "\n",
       "    .dataframe tbody tr th {\n",
       "        vertical-align: top;\n",
       "    }\n",
       "\n",
       "    .dataframe thead th {\n",
       "        text-align: right;\n",
       "    }\n",
       "</style>\n",
       "<table border=\"1\" class=\"dataframe\">\n",
       "  <thead>\n",
       "    <tr style=\"text-align: right;\">\n",
       "      <th></th>\n",
       "      <th>client_id</th>\n",
       "      <th>default</th>\n",
       "    </tr>\n",
       "  </thead>\n",
       "  <tbody>\n",
       "    <tr>\n",
       "      <th>23854</th>\n",
       "      <td>16696</td>\n",
       "      <td>0.478736</td>\n",
       "    </tr>\n",
       "    <tr>\n",
       "      <th>14913</th>\n",
       "      <td>55266</td>\n",
       "      <td>0.842017</td>\n",
       "    </tr>\n",
       "    <tr>\n",
       "      <th>22203</th>\n",
       "      <td>93044</td>\n",
       "      <td>0.043107</td>\n",
       "    </tr>\n",
       "    <tr>\n",
       "      <th>10251</th>\n",
       "      <td>87977</td>\n",
       "      <td>0.243970</td>\n",
       "    </tr>\n",
       "    <tr>\n",
       "      <th>929</th>\n",
       "      <td>51069</td>\n",
       "      <td>0.500493</td>\n",
       "    </tr>\n",
       "    <tr>\n",
       "      <th>18480</th>\n",
       "      <td>106454</td>\n",
       "      <td>0.212702</td>\n",
       "    </tr>\n",
       "    <tr>\n",
       "      <th>32542</th>\n",
       "      <td>76402</td>\n",
       "      <td>0.283709</td>\n",
       "    </tr>\n",
       "    <tr>\n",
       "      <th>6685</th>\n",
       "      <td>46814</td>\n",
       "      <td>0.292083</td>\n",
       "    </tr>\n",
       "    <tr>\n",
       "      <th>600</th>\n",
       "      <td>18513</td>\n",
       "      <td>0.285631</td>\n",
       "    </tr>\n",
       "    <tr>\n",
       "      <th>31409</th>\n",
       "      <td>51726</td>\n",
       "      <td>0.869721</td>\n",
       "    </tr>\n",
       "  </tbody>\n",
       "</table>\n",
       "</div>"
      ],
      "text/plain": [
       "       client_id   default\n",
       "23854      16696  0.478736\n",
       "14913      55266  0.842017\n",
       "22203      93044  0.043107\n",
       "10251      87977  0.243970\n",
       "929        51069  0.500493\n",
       "18480     106454  0.212702\n",
       "32542      76402  0.283709\n",
       "6685       46814  0.292083\n",
       "600        18513  0.285631\n",
       "31409      51726  0.869721"
      ]
     },
     "metadata": {},
     "output_type": "display_data"
    },
    {
     "data": {
      "text/plain": [
       "(36349, 2)"
      ]
     },
     "metadata": {},
     "output_type": "display_data"
    }
   ],
   "source": [
    "submission = test[['client_id','default']]\n",
    "display(submission.sample(10))\n",
    "display(submission.shape)"
   ]
  },
  {
   "cell_type": "code",
   "execution_count": 51,
   "metadata": {
    "execution": {
     "iopub.execute_input": "2021-11-30T06:37:38.377217Z",
     "iopub.status.busy": "2021-11-30T06:37:38.376514Z",
     "iopub.status.idle": "2021-11-30T06:37:38.516724Z",
     "shell.execute_reply": "2021-11-30T06:37:38.516081Z",
     "shell.execute_reply.started": "2021-11-30T06:28:41.656075Z"
    },
    "papermill": {
     "duration": 0.230918,
     "end_time": "2021-11-30T06:37:38.516875",
     "exception": false,
     "start_time": "2021-11-30T06:37:38.285957",
     "status": "completed"
    },
    "tags": []
   },
   "outputs": [],
   "source": [
    "submission.to_csv('submission.csv', index=False)"
   ]
  }
 ],
 "metadata": {
  "kernelspec": {
   "display_name": "Python 3",
   "language": "python",
   "name": "python3"
  },
  "language_info": {
   "codemirror_mode": {
    "name": "ipython",
    "version": 3
   },
   "file_extension": ".py",
   "mimetype": "text/x-python",
   "name": "python",
   "nbconvert_exporter": "python",
   "pygments_lexer": "ipython3",
   "version": "3.8.3"
  },
  "papermill": {
   "default_parameters": {},
   "duration": 83.987522,
   "end_time": "2021-11-30T06:37:39.978076",
   "environment_variables": {},
   "exception": null,
   "input_path": "__notebook__.ipynb",
   "output_path": "__notebook__.ipynb",
   "parameters": {},
   "start_time": "2021-11-30T06:36:15.990554",
   "version": "2.3.3"
  }
 },
 "nbformat": 4,
 "nbformat_minor": 5
}
